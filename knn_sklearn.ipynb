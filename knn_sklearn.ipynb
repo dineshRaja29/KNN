{
  "cells": [
    {
      "cell_type": "markdown",
      "metadata": {
        "id": "view-in-github",
        "colab_type": "text"
      },
      "source": [
        "<a href=\"https://colab.research.google.com/github/dineshRaja29/KNN/blob/main/knn_sklearn.ipynb\" target=\"_parent\"><img src=\"https://colab.research.google.com/assets/colab-badge.svg\" alt=\"Open In Colab\"/></a>"
      ]
    },
    {
      "cell_type": "markdown",
      "source": [
        "##<font color='green'><b>INTRODUCTION </b></font>"
      ],
      "metadata": {
        "id": "lOq1dJrDUUSk"
      }
    },
    {
      "cell_type": "markdown",
      "source": [
        "<ol>\n",
        "    <li><strong>Apply Knn (brute force version) on these feature sets</strong>\n",
        "        <ul>\n",
        "            <li></font>Review text, preprocessed one converted into vectors using (BOW)</li>\n",
        "            <li></font>Review text, preprocessed one converted into vectors using (TFIDF)</li>\n",
        "            <li></font>Review text, preprocessed one converted into vectors using (AVG W2v)</li>\n",
        "            <li></font>Review text, preprocessed one converted into vectors using (TFIDF W2v)</li>\n",
        "        </ul>\n",
        "    </li>\n",
        "    <br>\n",
        "    <li><strong>Apply Knn(kd tree version) on these feature sets</strong>\n",
        "        <br>NOTE: sklearn implementation of kd-tree accepts only dense matrices, you need to convert the sparse matrices of CountVectorizer/TfidfVectorizer into dense matices. You can convert sparse matrices to dense using .toarray() attribute. For more information please visit this <a href='https://docs.scipy.org/doc/scipy-0.18.1/reference/generated/scipy.sparse.csr_matrix.toarray.html'>link</a>\n",
        "        <ul>\n",
        "            <li>Review text, preprocessed one converted into vectors using (BOW) but with restriction on maximum features generated.\n",
        "            <pre>\n",
        "            count_vect = CountVectorizer(min_df=10, max_features=500) \n",
        "            count_vect.fit(preprocessed_reviews)\n",
        "            </pre>\n",
        "            </li>\n",
        "            <li>Review text, preprocessed one converted into vectors using (TFIDF) but with restriction on maximum features generated.\n",
        "            <pre>\n",
        "                tf_idf_vect = TfidfVectorizer(min_df=10, max_features=500)\n",
        "                tf_idf_vect.fit(preprocessed_reviews)\n",
        "            </pre>\n",
        "            </li>\n",
        "            <li>Review text, preprocessed one converted into vectors using (AVG W2v)</li>\n",
        "            <li>Review text, preprocessed one converted into vectors using (TFIDF W2v)</li>\n",
        "        </ul>\n",
        "    </li>\n",
        "    <br>\n",
        "    <li><strong>The hyper paramter tuning(find best K)</strong>\n",
        "        <ul>\n",
        "    <li>Find the best hyper parameter which will give the maximum <a href='https://www.appliedaicourse.com/course/applied-ai-course-online/lessons/receiver-operating-characteristic-curve-roc-curve-and-auc-1/'>AUC</a> value</li>\n",
        "    <li>Find the best hyper paramter using k-fold cross validation or simple cross validation data</li>\n",
        "    <li>Use gridsearch cv or randomsearch cv or you can also write your own for loops to do this task of hyperparameter tuning</li>\n",
        "        </ul>\n",
        "    </li>\n",
        "        </ul>\n",
        "</ol>"
      ],
      "metadata": {
        "id": "QSzv8SgfUPcA"
      }
    },
    {
      "cell_type": "markdown",
      "source": [
        "##<font color='green'><b>DATASET </b></font>"
      ],
      "metadata": {
        "id": "oXGROXPnVP4x"
      }
    },
    {
      "cell_type": "markdown",
      "metadata": {
        "id": "4UPJU7FIDYHb"
      },
      "source": [
        "Data Source: https://www.kaggle.com/snap/amazon-fine-food-reviews <br>\n",
        "\n",
        "EDA: https://nycdatascience.com/blog/student-works/amazon-fine-foods-visualization/\n",
        "\n",
        "\n",
        "The Amazon Fine Food Reviews dataset consists of reviews of fine foods from Amazon.<br>\n",
        "\n",
        "Number of reviews: 568,454<br>\n",
        "Number of users: 256,059<br>\n",
        "Number of products: 74,258<br>\n",
        "Timespan: Oct 1999 - Oct 2012<br>\n",
        "Number of Attributes/Columns in data: 10 \n",
        "\n",
        "Attribute Information:\n",
        "\n",
        "1. Id\n",
        "2. ProductId - unique identifier for the product\n",
        "3. UserId - unqiue identifier for the user\n",
        "4. ProfileName\n",
        "5. HelpfulnessNumerator - number of users who found the review helpful\n",
        "6. HelpfulnessDenominator - number of users who indicated whether they found the review helpful or not\n",
        "7. Score - rating between 1 and 5\n",
        "8. Time - timestamp for the review\n",
        "9. Summary - brief summary of the review\n",
        "10. Text - text of the review\n",
        "\n",
        "\n",
        "Objective:\n",
        "Given a review, determine whether the review is positive (rating of 4 or 5) or negative (rating of 1 or 2).\n",
        "\n",
        "We could use Score/Rating. A rating of 4 or 5 can be cosnidered as a positive review. A rating of 1 or 2 can be considered as negative one. A review of rating 3 is considered nuetral and such reviews are ignored from our analysis. This is an approximate and proxy way of determining the polarity (positivity/negativity) of a review.\n",
        "\n",
        "\n"
      ]
    },
    {
      "cell_type": "markdown",
      "metadata": {
        "id": "wEsMRzNDDYHi"
      },
      "source": [
        "\n",
        "The dataset is available in two forms\n",
        "1. .csv file\n",
        "2. SQLite Database\n",
        "\n",
        "In order to load the data, We have used the SQLITE dataset as it is easier to query the data and visualise the data efficiently.\n",
        "<br> \n",
        "\n",
        "Here as we only want to get the global sentiment of the recommendations (positive or negative), we will purposefully ignore all Scores equal to 3. If the score is above 3, then the recommendation wil be set to \"positive\". Otherwise, it will be set to \"negative\"."
      ]
    },
    {
      "cell_type": "code",
      "execution_count": null,
      "metadata": {
        "collapsed": true,
        "id": "ADl9geUvDYHl"
      },
      "outputs": [],
      "source": [
        "%matplotlib inline\n",
        "import warnings\n",
        "warnings.filterwarnings(\"ignore\")\n",
        "\n",
        "\n",
        "import sqlite3\n",
        "import pandas as pd\n",
        "import numpy as np\n",
        "import nltk\n",
        "import string\n",
        "import matplotlib.pyplot as plt\n",
        "import seaborn as sns\n",
        "from sklearn.feature_extraction.text import TfidfTransformer\n",
        "from sklearn.feature_extraction.text import TfidfVectorizer\n",
        "\n",
        "from sklearn.feature_extraction.text import CountVectorizer\n",
        "from sklearn.metrics import confusion_matrix\n",
        "from sklearn import metrics\n",
        "from sklearn.metrics import roc_curve, auc\n",
        "from nltk.stem.porter import PorterStemmer\n",
        "\n",
        "import re\n",
        "# Tutorial about Python regular expressions: https://pymotw.com/2/re/\n",
        "import string\n",
        "from nltk.corpus import stopwords\n",
        "from nltk.stem import PorterStemmer\n",
        "from nltk.stem.wordnet import WordNetLemmatizer\n",
        "\n",
        "from gensim.models import Word2Vec\n",
        "from gensim.models import KeyedVectors\n",
        "import pickle\n",
        "\n",
        "from tqdm import tqdm\n",
        "import os"
      ]
    },
    {
      "cell_type": "code",
      "execution_count": null,
      "metadata": {
        "colab": {
          "base_uri": "https://localhost:8080/",
          "height": 545
        },
        "id": "9pO69buUDYHz",
        "outputId": "51517000-0e68-4f17-dae8-a830e858c47d"
      },
      "outputs": [
        {
          "name": "stdout",
          "output_type": "stream",
          "text": [
            "Go to this URL in a browser: https://accounts.google.com/o/oauth2/auth?client_id=947318989803-6bn6qk8qdgf4n4g3pfee6491hc0brc4i.apps.googleusercontent.com&redirect_uri=urn%3Aietf%3Awg%3Aoauth%3A2.0%3Aoob&scope=email%20https%3A%2F%2Fwww.googleapis.com%2Fauth%2Fdocs.test%20https%3A%2F%2Fwww.googleapis.com%2Fauth%2Fdrive%20https%3A%2F%2Fwww.googleapis.com%2Fauth%2Fdrive.photos.readonly%20https%3A%2F%2Fwww.googleapis.com%2Fauth%2Fpeopleapi.readonly&response_type=code\n",
            "\n",
            "Enter your authorization code:\n",
            "··········\n",
            "Mounted at /content/drive\n",
            "Number of data points in our data (100000, 10)\n"
          ]
        },
        {
          "data": {
            "text/html": [
              "<div>\n",
              "<style scoped>\n",
              "    .dataframe tbody tr th:only-of-type {\n",
              "        vertical-align: middle;\n",
              "    }\n",
              "\n",
              "    .dataframe tbody tr th {\n",
              "        vertical-align: top;\n",
              "    }\n",
              "\n",
              "    .dataframe thead th {\n",
              "        text-align: right;\n",
              "    }\n",
              "</style>\n",
              "<table border=\"1\" class=\"dataframe\">\n",
              "  <thead>\n",
              "    <tr style=\"text-align: right;\">\n",
              "      <th></th>\n",
              "      <th>Id</th>\n",
              "      <th>ProductId</th>\n",
              "      <th>UserId</th>\n",
              "      <th>ProfileName</th>\n",
              "      <th>HelpfulnessNumerator</th>\n",
              "      <th>HelpfulnessDenominator</th>\n",
              "      <th>Score</th>\n",
              "      <th>Time</th>\n",
              "      <th>Summary</th>\n",
              "      <th>Text</th>\n",
              "    </tr>\n",
              "  </thead>\n",
              "  <tbody>\n",
              "    <tr>\n",
              "      <th>0</th>\n",
              "      <td>1</td>\n",
              "      <td>B001E4KFG0</td>\n",
              "      <td>A3SGXH7AUHU8GW</td>\n",
              "      <td>delmartian</td>\n",
              "      <td>1</td>\n",
              "      <td>1</td>\n",
              "      <td>1</td>\n",
              "      <td>1303862400</td>\n",
              "      <td>Good Quality Dog Food</td>\n",
              "      <td>I have bought several of the Vitality canned d...</td>\n",
              "    </tr>\n",
              "    <tr>\n",
              "      <th>1</th>\n",
              "      <td>2</td>\n",
              "      <td>B00813GRG4</td>\n",
              "      <td>A1D87F6ZCVE5NK</td>\n",
              "      <td>dll pa</td>\n",
              "      <td>0</td>\n",
              "      <td>0</td>\n",
              "      <td>0</td>\n",
              "      <td>1346976000</td>\n",
              "      <td>Not as Advertised</td>\n",
              "      <td>Product arrived labeled as Jumbo Salted Peanut...</td>\n",
              "    </tr>\n",
              "    <tr>\n",
              "      <th>2</th>\n",
              "      <td>3</td>\n",
              "      <td>B000LQOCH0</td>\n",
              "      <td>ABXLMWJIXXAIN</td>\n",
              "      <td>Natalia Corres \"Natalia Corres\"</td>\n",
              "      <td>1</td>\n",
              "      <td>1</td>\n",
              "      <td>1</td>\n",
              "      <td>1219017600</td>\n",
              "      <td>\"Delight\" says it all</td>\n",
              "      <td>This is a confection that has been around a fe...</td>\n",
              "    </tr>\n",
              "  </tbody>\n",
              "</table>\n",
              "</div>"
            ],
            "text/plain": [
              "   Id  ...                                               Text\n",
              "0   1  ...  I have bought several of the Vitality canned d...\n",
              "1   2  ...  Product arrived labeled as Jumbo Salted Peanut...\n",
              "2   3  ...  This is a confection that has been around a fe...\n",
              "\n",
              "[3 rows x 10 columns]"
            ]
          },
          "execution_count": 2,
          "metadata": {
            "tags": []
          },
          "output_type": "execute_result"
        }
      ],
      "source": [
        "# using SQLite Table to read data.\n",
        "con = sqlite3.connect('database.sqlite') \n",
        "\n",
        "# filtering only positive and negative reviews i.e. \n",
        "# not taking into consideration those reviews with Score=3\n",
        "# SELECT * FROM Reviews WHERE Score != 3 LIMIT 500000, will give top 500000 data points\n",
        "# you can change the number to any other number based on your computing power\n",
        "\n",
        "# filtered_data = pd.read_sql_query(\"\"\" SELECT * FROM Reviews WHERE Score != 3 LIMIT 500000\"\"\", con) \n",
        "# for tsne assignment you can take 5k data points\n",
        "\n",
        "filtered_data = pd.read_sql_query(\"\"\" SELECT * FROM Reviews WHERE Score != 3 LIMIT 100000\"\"\", con) \n",
        "\n",
        "# Give reviews with Score>3 a positive rating(1), and reviews with a score<3 a negative rating(0).\n",
        "def partition(x):\n",
        "    if x < 3:\n",
        "        return 0\n",
        "    return 1\n",
        "\n",
        "#changing reviews with score less than 3 to be positive and vice-versa\n",
        "actualScore = filtered_data['Score']\n",
        "positiveNegative = actualScore.map(partition) \n",
        "filtered_data['Score'] = positiveNegative\n",
        "print(\"Number of data points in our data\", filtered_data.shape)\n",
        "filtered_data.head(3)"
      ]
    },
    {
      "cell_type": "code",
      "execution_count": null,
      "metadata": {
        "collapsed": true,
        "id": "bDrGXaolDYIH"
      },
      "outputs": [],
      "source": [
        "display = pd.read_sql_query(\"\"\"\n",
        "SELECT UserId, ProductId, ProfileName, Time, Score, Text, COUNT(*)\n",
        "FROM Reviews\n",
        "GROUP BY UserId\n",
        "HAVING COUNT(*)>1\n",
        "\"\"\", con)"
      ]
    },
    {
      "cell_type": "code",
      "execution_count": null,
      "metadata": {
        "colab": {
          "base_uri": "https://localhost:8080/",
          "height": 310
        },
        "id": "Jj-M3g0FDYIj",
        "outputId": "bc9e6bf0-c927-4c30-f8b7-1dc344134cf0",
        "scrolled": true
      },
      "outputs": [
        {
          "name": "stdout",
          "output_type": "stream",
          "text": [
            "(80668, 7)\n"
          ]
        },
        {
          "data": {
            "text/html": [
              "<div>\n",
              "<style scoped>\n",
              "    .dataframe tbody tr th:only-of-type {\n",
              "        vertical-align: middle;\n",
              "    }\n",
              "\n",
              "    .dataframe tbody tr th {\n",
              "        vertical-align: top;\n",
              "    }\n",
              "\n",
              "    .dataframe thead th {\n",
              "        text-align: right;\n",
              "    }\n",
              "</style>\n",
              "<table border=\"1\" class=\"dataframe\">\n",
              "  <thead>\n",
              "    <tr style=\"text-align: right;\">\n",
              "      <th></th>\n",
              "      <th>UserId</th>\n",
              "      <th>ProductId</th>\n",
              "      <th>ProfileName</th>\n",
              "      <th>Time</th>\n",
              "      <th>Score</th>\n",
              "      <th>Text</th>\n",
              "      <th>COUNT(*)</th>\n",
              "    </tr>\n",
              "  </thead>\n",
              "  <tbody>\n",
              "    <tr>\n",
              "      <th>0</th>\n",
              "      <td>#oc-R115TNMSPFT9I7</td>\n",
              "      <td>B007Y59HVM</td>\n",
              "      <td>Breyton</td>\n",
              "      <td>1331510400</td>\n",
              "      <td>2</td>\n",
              "      <td>Overall its just OK when considering the price...</td>\n",
              "      <td>2</td>\n",
              "    </tr>\n",
              "    <tr>\n",
              "      <th>1</th>\n",
              "      <td>#oc-R11D9D7SHXIJB9</td>\n",
              "      <td>B005HG9ET0</td>\n",
              "      <td>Louis E. Emory \"hoppy\"</td>\n",
              "      <td>1342396800</td>\n",
              "      <td>5</td>\n",
              "      <td>My wife has recurring extreme muscle spasms, u...</td>\n",
              "      <td>3</td>\n",
              "    </tr>\n",
              "    <tr>\n",
              "      <th>2</th>\n",
              "      <td>#oc-R11DNU2NBKQ23Z</td>\n",
              "      <td>B007Y59HVM</td>\n",
              "      <td>Kim Cieszykowski</td>\n",
              "      <td>1348531200</td>\n",
              "      <td>1</td>\n",
              "      <td>This coffee is horrible and unfortunately not ...</td>\n",
              "      <td>2</td>\n",
              "    </tr>\n",
              "    <tr>\n",
              "      <th>3</th>\n",
              "      <td>#oc-R11O5J5ZVQE25C</td>\n",
              "      <td>B005HG9ET0</td>\n",
              "      <td>Penguin Chick</td>\n",
              "      <td>1346889600</td>\n",
              "      <td>5</td>\n",
              "      <td>This will be the bottle that you grab from the...</td>\n",
              "      <td>3</td>\n",
              "    </tr>\n",
              "    <tr>\n",
              "      <th>4</th>\n",
              "      <td>#oc-R12KPBODL2B5ZD</td>\n",
              "      <td>B007OSBE1U</td>\n",
              "      <td>Christopher P. Presta</td>\n",
              "      <td>1348617600</td>\n",
              "      <td>1</td>\n",
              "      <td>I didnt like this coffee. Instead of telling y...</td>\n",
              "      <td>2</td>\n",
              "    </tr>\n",
              "  </tbody>\n",
              "</table>\n",
              "</div>"
            ],
            "text/plain": [
              "               UserId  ... COUNT(*)\n",
              "0  #oc-R115TNMSPFT9I7  ...        2\n",
              "1  #oc-R11D9D7SHXIJB9  ...        3\n",
              "2  #oc-R11DNU2NBKQ23Z  ...        2\n",
              "3  #oc-R11O5J5ZVQE25C  ...        3\n",
              "4  #oc-R12KPBODL2B5ZD  ...        2\n",
              "\n",
              "[5 rows x 7 columns]"
            ]
          },
          "execution_count": 4,
          "metadata": {
            "tags": []
          },
          "output_type": "execute_result"
        }
      ],
      "source": [
        "print(display.shape)\n",
        "display.head()"
      ]
    },
    {
      "cell_type": "code",
      "execution_count": null,
      "metadata": {
        "colab": {
          "base_uri": "https://localhost:8080/",
          "height": 98
        },
        "id": "eAG-AQpWDYIx",
        "outputId": "95228347-e42b-4164-be35-ec03071a93f4"
      },
      "outputs": [
        {
          "data": {
            "text/html": [
              "<div>\n",
              "<style scoped>\n",
              "    .dataframe tbody tr th:only-of-type {\n",
              "        vertical-align: middle;\n",
              "    }\n",
              "\n",
              "    .dataframe tbody tr th {\n",
              "        vertical-align: top;\n",
              "    }\n",
              "\n",
              "    .dataframe thead th {\n",
              "        text-align: right;\n",
              "    }\n",
              "</style>\n",
              "<table border=\"1\" class=\"dataframe\">\n",
              "  <thead>\n",
              "    <tr style=\"text-align: right;\">\n",
              "      <th></th>\n",
              "      <th>UserId</th>\n",
              "      <th>ProductId</th>\n",
              "      <th>ProfileName</th>\n",
              "      <th>Time</th>\n",
              "      <th>Score</th>\n",
              "      <th>Text</th>\n",
              "      <th>COUNT(*)</th>\n",
              "    </tr>\n",
              "  </thead>\n",
              "  <tbody>\n",
              "    <tr>\n",
              "      <th>80638</th>\n",
              "      <td>AZY10LLTJ71NX</td>\n",
              "      <td>B006P7E5ZI</td>\n",
              "      <td>undertheshrine \"undertheshrine\"</td>\n",
              "      <td>1334707200</td>\n",
              "      <td>5</td>\n",
              "      <td>I was recommended to try green tea extract to ...</td>\n",
              "      <td>5</td>\n",
              "    </tr>\n",
              "  </tbody>\n",
              "</table>\n",
              "</div>"
            ],
            "text/plain": [
              "              UserId  ... COUNT(*)\n",
              "80638  AZY10LLTJ71NX  ...        5\n",
              "\n",
              "[1 rows x 7 columns]"
            ]
          },
          "execution_count": 5,
          "metadata": {
            "tags": []
          },
          "output_type": "execute_result"
        }
      ],
      "source": [
        "display[display['UserId']=='AZY10LLTJ71NX']"
      ]
    },
    {
      "cell_type": "code",
      "execution_count": null,
      "metadata": {
        "colab": {
          "base_uri": "https://localhost:8080/",
          "height": 34
        },
        "id": "3qBpPZKaDYI7",
        "outputId": "8896c4a1-44ae-46bf-abef-c6af81451438"
      },
      "outputs": [
        {
          "data": {
            "text/plain": [
              "393063"
            ]
          },
          "execution_count": 6,
          "metadata": {
            "tags": []
          },
          "output_type": "execute_result"
        }
      ],
      "source": [
        "display['COUNT(*)'].sum()"
      ]
    },
    {
      "cell_type": "markdown",
      "metadata": {
        "id": "G1rTdPsqDYJI"
      },
      "source": [
        "##<font color='green'><b>PREPROCESSING"
      ]
    },
    {
      "cell_type": "markdown",
      "metadata": {
        "id": "Wh5RH-NsDYJJ"
      },
      "source": [
        "It is observed (as shown in the table below) that the reviews data had many duplicate entries. Hence it was necessary to remove duplicates in order to get unbiased results for the analysis of the data.  Following is an example:"
      ]
    },
    {
      "cell_type": "code",
      "execution_count": null,
      "metadata": {
        "colab": {
          "base_uri": "https://localhost:8080/",
          "height": 573
        },
        "id": "EUF69tvsDYJO",
        "outputId": "7ab110a1-6d9f-41c2-e6c8-77bf28956d55",
        "scrolled": false
      },
      "outputs": [
        {
          "data": {
            "text/html": [
              "<div>\n",
              "<style scoped>\n",
              "    .dataframe tbody tr th:only-of-type {\n",
              "        vertical-align: middle;\n",
              "    }\n",
              "\n",
              "    .dataframe tbody tr th {\n",
              "        vertical-align: top;\n",
              "    }\n",
              "\n",
              "    .dataframe thead th {\n",
              "        text-align: right;\n",
              "    }\n",
              "</style>\n",
              "<table border=\"1\" class=\"dataframe\">\n",
              "  <thead>\n",
              "    <tr style=\"text-align: right;\">\n",
              "      <th></th>\n",
              "      <th>Id</th>\n",
              "      <th>ProductId</th>\n",
              "      <th>UserId</th>\n",
              "      <th>ProfileName</th>\n",
              "      <th>HelpfulnessNumerator</th>\n",
              "      <th>HelpfulnessDenominator</th>\n",
              "      <th>Score</th>\n",
              "      <th>Time</th>\n",
              "      <th>Summary</th>\n",
              "      <th>Text</th>\n",
              "    </tr>\n",
              "  </thead>\n",
              "  <tbody>\n",
              "    <tr>\n",
              "      <th>0</th>\n",
              "      <td>78445</td>\n",
              "      <td>B000HDL1RQ</td>\n",
              "      <td>AR5J8UI46CURR</td>\n",
              "      <td>Geetha Krishnan</td>\n",
              "      <td>2</td>\n",
              "      <td>2</td>\n",
              "      <td>5</td>\n",
              "      <td>1199577600</td>\n",
              "      <td>LOACKER QUADRATINI VANILLA WAFERS</td>\n",
              "      <td>DELICIOUS WAFERS. I FIND THAT EUROPEAN WAFERS ...</td>\n",
              "    </tr>\n",
              "    <tr>\n",
              "      <th>1</th>\n",
              "      <td>138317</td>\n",
              "      <td>B000HDOPYC</td>\n",
              "      <td>AR5J8UI46CURR</td>\n",
              "      <td>Geetha Krishnan</td>\n",
              "      <td>2</td>\n",
              "      <td>2</td>\n",
              "      <td>5</td>\n",
              "      <td>1199577600</td>\n",
              "      <td>LOACKER QUADRATINI VANILLA WAFERS</td>\n",
              "      <td>DELICIOUS WAFERS. I FIND THAT EUROPEAN WAFERS ...</td>\n",
              "    </tr>\n",
              "    <tr>\n",
              "      <th>2</th>\n",
              "      <td>138277</td>\n",
              "      <td>B000HDOPYM</td>\n",
              "      <td>AR5J8UI46CURR</td>\n",
              "      <td>Geetha Krishnan</td>\n",
              "      <td>2</td>\n",
              "      <td>2</td>\n",
              "      <td>5</td>\n",
              "      <td>1199577600</td>\n",
              "      <td>LOACKER QUADRATINI VANILLA WAFERS</td>\n",
              "      <td>DELICIOUS WAFERS. I FIND THAT EUROPEAN WAFERS ...</td>\n",
              "    </tr>\n",
              "    <tr>\n",
              "      <th>3</th>\n",
              "      <td>73791</td>\n",
              "      <td>B000HDOPZG</td>\n",
              "      <td>AR5J8UI46CURR</td>\n",
              "      <td>Geetha Krishnan</td>\n",
              "      <td>2</td>\n",
              "      <td>2</td>\n",
              "      <td>5</td>\n",
              "      <td>1199577600</td>\n",
              "      <td>LOACKER QUADRATINI VANILLA WAFERS</td>\n",
              "      <td>DELICIOUS WAFERS. I FIND THAT EUROPEAN WAFERS ...</td>\n",
              "    </tr>\n",
              "    <tr>\n",
              "      <th>4</th>\n",
              "      <td>155049</td>\n",
              "      <td>B000PAQ75C</td>\n",
              "      <td>AR5J8UI46CURR</td>\n",
              "      <td>Geetha Krishnan</td>\n",
              "      <td>2</td>\n",
              "      <td>2</td>\n",
              "      <td>5</td>\n",
              "      <td>1199577600</td>\n",
              "      <td>LOACKER QUADRATINI VANILLA WAFERS</td>\n",
              "      <td>DELICIOUS WAFERS. I FIND THAT EUROPEAN WAFERS ...</td>\n",
              "    </tr>\n",
              "  </tbody>\n",
              "</table>\n",
              "</div>"
            ],
            "text/plain": [
              "       Id  ...                                               Text\n",
              "0   78445  ...  DELICIOUS WAFERS. I FIND THAT EUROPEAN WAFERS ...\n",
              "1  138317  ...  DELICIOUS WAFERS. I FIND THAT EUROPEAN WAFERS ...\n",
              "2  138277  ...  DELICIOUS WAFERS. I FIND THAT EUROPEAN WAFERS ...\n",
              "3   73791  ...  DELICIOUS WAFERS. I FIND THAT EUROPEAN WAFERS ...\n",
              "4  155049  ...  DELICIOUS WAFERS. I FIND THAT EUROPEAN WAFERS ...\n",
              "\n",
              "[5 rows x 10 columns]"
            ]
          },
          "execution_count": 7,
          "metadata": {
            "tags": []
          },
          "output_type": "execute_result"
        }
      ],
      "source": [
        "display= pd.read_sql_query(\"\"\"\n",
        "SELECT *\n",
        "FROM Reviews\n",
        "WHERE Score != 3 AND UserId=\"AR5J8UI46CURR\"\n",
        "ORDER BY ProductID\n",
        "\"\"\", con)\n",
        "display.head()"
      ]
    },
    {
      "cell_type": "markdown",
      "metadata": {
        "id": "cKrGPQEfDYJW"
      },
      "source": [
        "As it can be seen above that same user has multiple reviews with same values for HelpfulnessNumerator, HelpfulnessDenominator, Score, Time, Summary and Text and on doing analysis it was found that <br>\n",
        "<br> \n",
        "ProductId=B000HDOPZG was Loacker Quadratini Vanilla Wafer Cookies, 8.82-Ounce Packages (Pack of 8)<br>\n",
        "<br> \n",
        "ProductId=B000HDL1RQ was Loacker Quadratini Lemon Wafer Cookies, 8.82-Ounce Packages (Pack of 8) and so on<br>\n",
        "\n",
        "It was inferred after analysis that reviews with same parameters other than ProductId belonged to the same product just having different flavour or quantity. Hence in order to reduce redundancy it was decided to eliminate the rows having same parameters.<br>\n",
        "\n",
        "The method used for the same was that we first sort the data according to ProductId and then just keep the first similar product review and delelte the others. for eg. in the above just the review for ProductId=B000HDL1RQ remains. This method ensures that there is only one representative for each product and deduplication without sorting would lead to possibility of different representatives still existing for the same product."
      ]
    },
    {
      "cell_type": "code",
      "execution_count": null,
      "metadata": {
        "collapsed": true,
        "id": "eQWrz1nFDYJX"
      },
      "outputs": [],
      "source": [
        "#Sorting data according to ProductId in ascending order\n",
        "sorted_data=filtered_data.sort_values('ProductId', axis=0, ascending=True, inplace=False, kind='quicksort', na_position='last')"
      ]
    },
    {
      "cell_type": "code",
      "execution_count": null,
      "metadata": {
        "colab": {
          "base_uri": "https://localhost:8080/",
          "height": 34
        },
        "id": "4CS7fUdLDYJd",
        "outputId": "3f3cff35-c328-4ce9-802c-0e4144de4396"
      },
      "outputs": [
        {
          "data": {
            "text/plain": [
              "(87775, 10)"
            ]
          },
          "execution_count": 9,
          "metadata": {
            "tags": []
          },
          "output_type": "execute_result"
        }
      ],
      "source": [
        "#Deduplication of entries\n",
        "final=sorted_data.drop_duplicates(subset={\"UserId\",\"ProfileName\",\"Time\",\"Text\"}, keep='first', inplace=False)\n",
        "final.shape"
      ]
    },
    {
      "cell_type": "code",
      "execution_count": null,
      "metadata": {
        "colab": {
          "base_uri": "https://localhost:8080/",
          "height": 34
        },
        "id": "Hcc_-CJMDYJk",
        "outputId": "f80e8869-2247-460f-98c7-7d59151302d2"
      },
      "outputs": [
        {
          "data": {
            "text/plain": [
              "87.775"
            ]
          },
          "execution_count": 10,
          "metadata": {
            "tags": []
          },
          "output_type": "execute_result"
        }
      ],
      "source": [
        "#Checking to see how much % of data still remains\n",
        "(final['Id'].size*1.0)/(filtered_data['Id'].size*1.0)*100"
      ]
    },
    {
      "cell_type": "markdown",
      "metadata": {
        "id": "engwR6VNDYJq"
      },
      "source": [
        "<b>Observation:-</b> It was also seen that in two rows given below the value of HelpfulnessNumerator is greater than HelpfulnessDenominator which is not practically possible hence these two rows too are removed from calcualtions"
      ]
    },
    {
      "cell_type": "code",
      "execution_count": null,
      "metadata": {
        "colab": {
          "base_uri": "https://localhost:8080/",
          "height": 340
        },
        "id": "hjN7-OL_DYJt",
        "outputId": "43060e9c-caa5-482b-e177-7438d3017c51"
      },
      "outputs": [
        {
          "data": {
            "text/html": [
              "<div>\n",
              "<style scoped>\n",
              "    .dataframe tbody tr th:only-of-type {\n",
              "        vertical-align: middle;\n",
              "    }\n",
              "\n",
              "    .dataframe tbody tr th {\n",
              "        vertical-align: top;\n",
              "    }\n",
              "\n",
              "    .dataframe thead th {\n",
              "        text-align: right;\n",
              "    }\n",
              "</style>\n",
              "<table border=\"1\" class=\"dataframe\">\n",
              "  <thead>\n",
              "    <tr style=\"text-align: right;\">\n",
              "      <th></th>\n",
              "      <th>Id</th>\n",
              "      <th>ProductId</th>\n",
              "      <th>UserId</th>\n",
              "      <th>ProfileName</th>\n",
              "      <th>HelpfulnessNumerator</th>\n",
              "      <th>HelpfulnessDenominator</th>\n",
              "      <th>Score</th>\n",
              "      <th>Time</th>\n",
              "      <th>Summary</th>\n",
              "      <th>Text</th>\n",
              "    </tr>\n",
              "  </thead>\n",
              "  <tbody>\n",
              "    <tr>\n",
              "      <th>0</th>\n",
              "      <td>64422</td>\n",
              "      <td>B000MIDROQ</td>\n",
              "      <td>A161DK06JJMCYF</td>\n",
              "      <td>J. E. Stephens \"Jeanne\"</td>\n",
              "      <td>3</td>\n",
              "      <td>1</td>\n",
              "      <td>5</td>\n",
              "      <td>1224892800</td>\n",
              "      <td>Bought This for My Son at College</td>\n",
              "      <td>My son loves spaghetti so I didn't hesitate or...</td>\n",
              "    </tr>\n",
              "    <tr>\n",
              "      <th>1</th>\n",
              "      <td>44737</td>\n",
              "      <td>B001EQ55RW</td>\n",
              "      <td>A2V0I904FH7ABY</td>\n",
              "      <td>Ram</td>\n",
              "      <td>3</td>\n",
              "      <td>2</td>\n",
              "      <td>4</td>\n",
              "      <td>1212883200</td>\n",
              "      <td>Pure cocoa taste with crunchy almonds inside</td>\n",
              "      <td>It was almost a 'love at first bite' - the per...</td>\n",
              "    </tr>\n",
              "  </tbody>\n",
              "</table>\n",
              "</div>"
            ],
            "text/plain": [
              "      Id  ...                                               Text\n",
              "0  64422  ...  My son loves spaghetti so I didn't hesitate or...\n",
              "1  44737  ...  It was almost a 'love at first bite' - the per...\n",
              "\n",
              "[2 rows x 10 columns]"
            ]
          },
          "execution_count": 11,
          "metadata": {
            "tags": []
          },
          "output_type": "execute_result"
        }
      ],
      "source": [
        "display= pd.read_sql_query(\"\"\"\n",
        "SELECT *\n",
        "FROM Reviews\n",
        "WHERE Score != 3 AND Id=44737 OR Id=64422\n",
        "ORDER BY ProductID\n",
        "\"\"\", con)\n",
        "\n",
        "display.head()"
      ]
    },
    {
      "cell_type": "code",
      "execution_count": null,
      "metadata": {
        "collapsed": true,
        "id": "Ezix6kJ_DYJ3"
      },
      "outputs": [],
      "source": [
        "final=final[final.HelpfulnessNumerator<=final.HelpfulnessDenominator]"
      ]
    },
    {
      "cell_type": "code",
      "execution_count": null,
      "metadata": {
        "colab": {
          "base_uri": "https://localhost:8080/",
          "height": 86
        },
        "id": "yWsVhvArDYJ9",
        "outputId": "42705245-f28a-403a-c97e-a621d9877145"
      },
      "outputs": [
        {
          "name": "stdout",
          "output_type": "stream",
          "text": [
            "(87773, 10)\n"
          ]
        },
        {
          "data": {
            "text/plain": [
              "1    73592\n",
              "0    14181\n",
              "Name: Score, dtype: int64"
            ]
          },
          "execution_count": 13,
          "metadata": {
            "tags": []
          },
          "output_type": "execute_result"
        }
      ],
      "source": [
        "#Before starting the next phase of preprocessing lets see the number of entries left\n",
        "print(final.shape)\n",
        "\n",
        "#How many positive and negative reviews are present in our dataset?\n",
        "final['Score'].value_counts()"
      ]
    },
    {
      "cell_type": "markdown",
      "metadata": {
        "id": "P7Zq_ToqDYKJ"
      },
      "source": [
        "\n",
        "Preprocessing\n",
        "1. Begin by removing the html tags\n",
        "2. Remove any punctuations or limited set of special characters like , or . or # etc.\n",
        "3. Check if the word is made up of english letters and is not alpha-numeric\n",
        "4. Check to see if the length of the word is greater than 2 (as it was researched that there is no adjective in 2-letters)\n",
        "5. Convert the word to lowercase\n",
        "6. Remove Stopwords\n",
        "7. Finally Snowball Stemming the word (it was obsereved to be better than Porter Stemming)<br>\n",
        "\n"
      ]
    },
    {
      "cell_type": "code",
      "execution_count": null,
      "metadata": {
        "colab": {
          "base_uri": "https://localhost:8080/",
          "height": 176
        },
        "id": "3jw5g5yEDYKL",
        "outputId": "6d402466-33c3-40df-ddb1-77570995c2cb"
      },
      "outputs": [
        {
          "name": "stdout",
          "output_type": "stream",
          "text": [
            "My dogs loves this chicken but its a product from China, so we wont be buying it anymore.  Its very hard to find any chicken products made in the USA but they are out there, but this one isnt.  Its too bad too because its a good product but I wont take any chances till they know what is going on with the china imports.\n",
            "==================================================\n",
            "The Candy Blocks were a nice visual for the Lego Birthday party but the candy has little taste to it.  Very little of the 2 lbs that I bought were eaten and I threw the rest away.  I would not buy the candy again.\n",
            "==================================================\n",
            "was way to hot for my blood, took a bite and did a jig  lol\n",
            "==================================================\n",
            "My dog LOVES these treats. They tend to have a very strong fish oil smell. So if you are afraid of the fishy smell, don't get it. But I think my dog likes it because of the smell. These treats are really small in size. They are great for training. You can give your dog several of these without worrying about him over eating. Amazon's price was much more reasonable than any other retailer. You can buy a 1 pound bag on Amazon for almost the same price as a 6 ounce bag at other retailers. It's definitely worth it to buy a big bag if your dog eats them a lot.\n",
            "==================================================\n"
          ]
        }
      ],
      "source": [
        "# printing some random reviews\n",
        "sent_0 = final['Text'].values[0]\n",
        "print(sent_0)\n",
        "print(\"=\"*50)\n",
        "\n",
        "sent_1000 = final['Text'].values[1000]\n",
        "print(sent_1000)\n",
        "print(\"=\"*50)\n",
        "\n",
        "sent_1500 = final['Text'].values[1500]\n",
        "print(sent_1500)\n",
        "print(\"=\"*50)\n",
        "\n",
        "sent_4900 = final['Text'].values[4900]\n",
        "print(sent_4900)\n",
        "print(\"=\"*50)"
      ]
    },
    {
      "cell_type": "code",
      "execution_count": null,
      "metadata": {
        "colab": {
          "base_uri": "https://localhost:8080/",
          "height": 54
        },
        "id": "WloiOvL3DYKT",
        "outputId": "08c760f5-6e92-4df4-8c3f-3a1c8f818b7c"
      },
      "outputs": [
        {
          "name": "stdout",
          "output_type": "stream",
          "text": [
            "My dogs loves this chicken but its a product from China, so we wont be buying it anymore.  Its very hard to find any chicken products made in the USA but they are out there, but this one isnt.  Its too bad too because its a good product but I wont take any chances till they know what is going on with the china imports.\n"
          ]
        }
      ],
      "source": [
        "# remove urls from text python: https://stackoverflow.com/a/40823105/4084039\n",
        "sent_0 = re.sub(r\"http\\S+\", \"\", sent_0)\n",
        "sent_1000 = re.sub(r\"http\\S+\", \"\", sent_1000)\n",
        "sent_150 = re.sub(r\"http\\S+\", \"\", sent_1500)\n",
        "sent_4900 = re.sub(r\"http\\S+\", \"\", sent_4900)\n",
        "\n",
        "print(sent_0)"
      ]
    },
    {
      "cell_type": "code",
      "execution_count": null,
      "metadata": {
        "colab": {
          "base_uri": "https://localhost:8080/",
          "height": 159
        },
        "id": "SzCCi9tPDYKf",
        "outputId": "2e4fd7f0-b8a8-499e-9a68-778ffd3b2410"
      },
      "outputs": [
        {
          "name": "stdout",
          "output_type": "stream",
          "text": [
            "My dogs loves this chicken but its a product from China, so we wont be buying it anymore.  Its very hard to find any chicken products made in the USA but they are out there, but this one isnt.  Its too bad too because its a good product but I wont take any chances till they know what is going on with the china imports.\n",
            "==================================================\n",
            "The Candy Blocks were a nice visual for the Lego Birthday party but the candy has little taste to it.  Very little of the 2 lbs that I bought were eaten and I threw the rest away.  I would not buy the candy again.\n",
            "==================================================\n",
            "was way to hot for my blood, took a bite and did a jig  lol\n",
            "==================================================\n",
            "My dog LOVES these treats. They tend to have a very strong fish oil smell. So if you are afraid of the fishy smell, don't get it. But I think my dog likes it because of the smell. These treats are really small in size. They are great for training. You can give your dog several of these without worrying about him over eating. Amazon's price was much more reasonable than any other retailer. You can buy a 1 pound bag on Amazon for almost the same price as a 6 ounce bag at other retailers. It's definitely worth it to buy a big bag if your dog eats them a lot.\n"
          ]
        }
      ],
      "source": [
        "# https://stackoverflow.com/questions/16206380/python-beautifulsoup-how-to-remove-all-tags-from-an-element\n",
        "from bs4 import BeautifulSoup\n",
        "\n",
        "soup = BeautifulSoup(sent_0, 'lxml')\n",
        "text = soup.get_text()\n",
        "print(text)\n",
        "print(\"=\"*50)\n",
        "\n",
        "soup = BeautifulSoup(sent_1000, 'lxml')\n",
        "text = soup.get_text()\n",
        "print(text)\n",
        "print(\"=\"*50)\n",
        "\n",
        "soup = BeautifulSoup(sent_1500, 'lxml')\n",
        "text = soup.get_text()\n",
        "print(text)\n",
        "print(\"=\"*50)\n",
        "\n",
        "soup = BeautifulSoup(sent_4900, 'lxml')\n",
        "text = soup.get_text()\n",
        "print(text)"
      ]
    },
    {
      "cell_type": "code",
      "execution_count": null,
      "metadata": {
        "collapsed": true,
        "id": "vQ2mdt2jDYKo"
      },
      "outputs": [],
      "source": [
        "# https://stackoverflow.com/a/47091490/4084039\n",
        "import re\n",
        "\n",
        "def decontracted(phrase):\n",
        "    # specific\n",
        "    phrase = re.sub(r\"won't\", \"will not\", phrase)\n",
        "    phrase = re.sub(r\"can\\'t\", \"can not\", phrase)\n",
        "\n",
        "    # general\n",
        "    phrase = re.sub(r\"n\\'t\", \" not\", phrase)\n",
        "    phrase = re.sub(r\"\\'re\", \" are\", phrase)\n",
        "    phrase = re.sub(r\"\\'s\", \" is\", phrase)\n",
        "    phrase = re.sub(r\"\\'d\", \" would\", phrase)\n",
        "    phrase = re.sub(r\"\\'ll\", \" will\", phrase)\n",
        "    phrase = re.sub(r\"\\'t\", \" not\", phrase)\n",
        "    phrase = re.sub(r\"\\'ve\", \" have\", phrase)\n",
        "    phrase = re.sub(r\"\\'m\", \" am\", phrase)\n",
        "    return phrase"
      ]
    },
    {
      "cell_type": "code",
      "execution_count": null,
      "metadata": {
        "colab": {
          "base_uri": "https://localhost:8080/",
          "height": 52
        },
        "id": "GD5_8P5jDYKr",
        "outputId": "5bd92f9f-147f-47e1-a924-e8ed4fe8c593"
      },
      "outputs": [
        {
          "name": "stdout",
          "output_type": "stream",
          "text": [
            "was way to hot for my blood, took a bite and did a jig  lol\n",
            "==================================================\n"
          ]
        }
      ],
      "source": [
        "sent_1500 = decontracted(sent_1500)\n",
        "print(sent_1500)\n",
        "print(\"=\"*50)"
      ]
    },
    {
      "cell_type": "code",
      "execution_count": null,
      "metadata": {
        "colab": {
          "base_uri": "https://localhost:8080/",
          "height": 54
        },
        "id": "qTHM_mDnDYKx",
        "outputId": "1b842bb7-43fb-4e97-99b1-019466914790"
      },
      "outputs": [
        {
          "name": "stdout",
          "output_type": "stream",
          "text": [
            "My dogs loves this chicken but its a product from China, so we wont be buying it anymore.  Its very hard to find any chicken products made in the USA but they are out there, but this one isnt.  Its too bad too because its a good product but I wont take any chances till they know what is going on with the china imports.\n"
          ]
        }
      ],
      "source": [
        "#remove words with numbers python: https://stackoverflow.com/a/18082370/4084039\n",
        "sent_0 = re.sub(\"\\S*\\d\\S*\", \"\", sent_0).strip()\n",
        "print(sent_0)"
      ]
    },
    {
      "cell_type": "code",
      "execution_count": null,
      "metadata": {
        "colab": {
          "base_uri": "https://localhost:8080/",
          "height": 34
        },
        "id": "pXhZUMDzDYK6",
        "outputId": "ddd88725-3c46-4c09-ed9c-f14f611d7f9a"
      },
      "outputs": [
        {
          "name": "stdout",
          "output_type": "stream",
          "text": [
            "was way to hot for my blood took a bite and did a jig lol\n"
          ]
        }
      ],
      "source": [
        "#remove spacial character: https://stackoverflow.com/a/5843547/4084039\n",
        "sent_1500 = re.sub('[^A-Za-z0-9]+', ' ', sent_1500)\n",
        "print(sent_1500)"
      ]
    },
    {
      "cell_type": "code",
      "execution_count": null,
      "metadata": {
        "collapsed": true,
        "id": "vZJNhKvKDYLA"
      },
      "outputs": [],
      "source": [
        "# https://gist.github.com/sebleier/554280\n",
        "# we are removing the words from the stop words list: 'no', 'nor', 'not'\n",
        "# <br /><br /> ==> after the above steps, we are getting \"br br\"\n",
        "# we are including them into stop words list\n",
        "# instead of <br /> if we have <br/> these tags would have revmoved in the 1st step\n",
        "\n",
        "stopwords= set(['br', 'the', 'i', 'me', 'my', 'myself', 'we', 'our', 'ours', 'ourselves', 'you', \"you're\", \"you've\",\\\n",
        "            \"you'll\", \"you'd\", 'your', 'yours', 'yourself', 'yourselves', 'he', 'him', 'his', 'himself', \\\n",
        "            'she', \"she's\", 'her', 'hers', 'herself', 'it', \"it's\", 'its', 'itself', 'they', 'them', 'their',\\\n",
        "            'theirs', 'themselves', 'what', 'which', 'who', 'whom', 'this', 'that', \"that'll\", 'these', 'those', \\\n",
        "            'am', 'is', 'are', 'was', 'were', 'be', 'been', 'being', 'have', 'has', 'had', 'having', 'do', 'does', \\\n",
        "            'did', 'doing', 'a', 'an', 'the', 'and', 'but', 'if', 'or', 'because', 'as', 'until', 'while', 'of', \\\n",
        "            'at', 'by', 'for', 'with', 'about', 'against', 'between', 'into', 'through', 'during', 'before', 'after',\\\n",
        "            'above', 'below', 'to', 'from', 'up', 'down', 'in', 'out', 'on', 'off', 'over', 'under', 'again', 'further',\\\n",
        "            'then', 'once', 'here', 'there', 'when', 'where', 'why', 'how', 'all', 'any', 'both', 'each', 'few', 'more',\\\n",
        "            'most', 'other', 'some', 'such', 'only', 'own', 'same', 'so', 'than', 'too', 'very', \\\n",
        "            's', 't', 'can', 'will', 'just', 'don', \"don't\", 'should', \"should've\", 'now', 'd', 'll', 'm', 'o', 're', \\\n",
        "            've', 'y', 'ain', 'aren', \"aren't\", 'couldn', \"couldn't\", 'didn', \"didn't\", 'doesn', \"doesn't\", 'hadn',\\\n",
        "            \"hadn't\", 'hasn', \"hasn't\", 'haven', \"haven't\", 'isn', \"isn't\", 'ma', 'mightn', \"mightn't\", 'mustn',\\\n",
        "            \"mustn't\", 'needn', \"needn't\", 'shan', \"shan't\", 'shouldn', \"shouldn't\", 'wasn', \"wasn't\", 'weren', \"weren't\", \\\n",
        "            'won', \"won't\", 'wouldn', \"wouldn't\"])"
      ]
    },
    {
      "cell_type": "code",
      "execution_count": null,
      "metadata": {
        "colab": {
          "base_uri": "https://localhost:8080/",
          "height": 34
        },
        "id": "1Rd8zIc8DYLF",
        "outputId": "409ac22c-59d8-43fd-d60f-c425d2bf113f"
      },
      "outputs": [
        {
          "name": "stderr",
          "output_type": "stream",
          "text": [
            "100%|██████████| 87773/87773 [00:34<00:00, 2528.74it/s]\n"
          ]
        }
      ],
      "source": [
        "# Combining all the above stundents \n",
        "from tqdm import tqdm\n",
        "preprocessed_reviews = []\n",
        "# tqdm is for printing the status bar\n",
        "for sentance in tqdm(final['Text'].values):\n",
        "    sentance = re.sub(r\"http\\S+\", \"\", sentance)\n",
        "    sentance = BeautifulSoup(sentance, 'lxml').get_text()\n",
        "    sentance = decontracted(sentance)\n",
        "    sentance = re.sub(\"\\S*\\d\\S*\", \"\", sentance).strip()\n",
        "    sentance = re.sub('[^A-Za-z]+', ' ', sentance)\n",
        "    # https://gist.github.com/sebleier/554280\n",
        "    sentance = ' '.join(e.lower() for e in sentance.split() if e.lower() not in stopwords)\n",
        "    preprocessed_reviews.append(sentance.strip())"
      ]
    },
    {
      "cell_type": "code",
      "execution_count": null,
      "metadata": {
        "colab": {
          "base_uri": "https://localhost:8080/",
          "height": 34
        },
        "id": "YBWzfi2NDYLL",
        "outputId": "23235bf0-2398-49c7-c22c-2ba6247d8b29"
      },
      "outputs": [
        {
          "data": {
            "text/plain": [
              "'way hot blood took bite jig lol'"
            ]
          },
          "execution_count": 23,
          "metadata": {
            "tags": []
          },
          "output_type": "execute_result"
        }
      ],
      "source": [
        "preprocessed_reviews[1500]"
      ]
    },
    {
      "cell_type": "markdown",
      "metadata": {
        "id": "vSmZvNNZDYLi"
      },
      "source": [
        "##<font color='green'><b>Featurization"
      ]
    },
    {
      "cell_type": "markdown",
      "metadata": {
        "id": "zZs1QbloDYLk"
      },
      "source": [
        "###<font color='green'><b>BAG OF WORDS"
      ]
    },
    {
      "cell_type": "code",
      "execution_count": null,
      "metadata": {
        "colab": {
          "base_uri": "https://localhost:8080/",
          "height": 124
        },
        "id": "KGkxITLpDYLl",
        "outputId": "fcd6d56c-34a8-4d22-c3bc-f9b9703d6eb9"
      },
      "outputs": [
        {
          "name": "stdout",
          "output_type": "stream",
          "text": [
            "some feature names  ['aa', 'aaa', 'aaaa', 'aaaaa', 'aaaaaaaaaaaa', 'aaaaaaaaaaaaaaa', 'aaaaaaahhhhhh', 'aaaaaaarrrrrggghhh', 'aaaaaawwwwwwwwww', 'aaaaah']\n",
            "==================================================\n",
            "the type of count vectorizer  <class 'scipy.sparse.csr.csr_matrix'>\n",
            "the shape of out text BOW vectorizer  (87773, 54904)\n",
            "the number of unique words  54904\n"
          ]
        }
      ],
      "source": [
        "#BoW\n",
        "count_vect = CountVectorizer() #in scikit-learn\n",
        "count_vect.fit(preprocessed_reviews)\n",
        "print(\"some feature names \", count_vect.get_feature_names()[:10])\n",
        "print('='*50)\n",
        "\n",
        "final_counts = count_vect.transform(preprocessed_reviews)\n",
        "print(\"the type of count vectorizer \",type(final_counts))\n",
        "print(\"the shape of out text BOW vectorizer \",final_counts.get_shape())\n",
        "print(\"the number of unique words \", final_counts.get_shape()[1])"
      ]
    },
    {
      "cell_type": "markdown",
      "metadata": {
        "id": "_pcNUauJDYLr"
      },
      "source": [
        "####<font color='green'><b>Bi-Grams and n-Grams"
      ]
    },
    {
      "cell_type": "code",
      "execution_count": null,
      "metadata": {
        "colab": {
          "base_uri": "https://localhost:8080/",
          "height": 69
        },
        "id": "cM2SIgUvDYLt",
        "outputId": "980144e1-79ab-4674-8056-690a6120d2dc"
      },
      "outputs": [
        {
          "name": "stdout",
          "output_type": "stream",
          "text": [
            "the type of count vectorizer  <class 'scipy.sparse.csr.csr_matrix'>\n",
            "the shape of out text BOW vectorizer  (87773, 5000)\n",
            "the number of unique words including both unigrams and bigrams  5000\n"
          ]
        }
      ],
      "source": [
        "#bi-gram, tri-gram and n-gram\n",
        "\n",
        "#removing stop words like \"not\" should be avoided before building n-grams\n",
        "# count_vect = CountVectorizer(ngram_range=(1,2))\n",
        "# please do read the CountVectorizer documentation http://scikit-learn.org/stable/modules/generated/sklearn.feature_extraction.text.CountVectorizer.html\n",
        "\n",
        "# you can choose these numebrs min_df=10, max_features=5000, of your choice\n",
        "count_vect = CountVectorizer(ngram_range=(1,2), min_df=10, max_features=5000)\n",
        "final_bigram_counts = count_vect.fit_transform(preprocessed_reviews)\n",
        "print(\"the type of count vectorizer \",type(final_bigram_counts))\n",
        "print(\"the shape of out text BOW vectorizer \",final_bigram_counts.get_shape())\n",
        "print(\"the number of unique words including both unigrams and bigrams \", final_bigram_counts.get_shape()[1])"
      ]
    },
    {
      "cell_type": "markdown",
      "metadata": {
        "id": "6bReCy__DYLx"
      },
      "source": [
        "###<font color='green'><b>TF-IDF"
      ]
    },
    {
      "cell_type": "code",
      "execution_count": null,
      "metadata": {
        "colab": {
          "base_uri": "https://localhost:8080/",
          "height": 124
        },
        "id": "hfpsAqaXDYLy",
        "outputId": "b17d203a-b5ae-44a3-9737-883495cf8d2f"
      },
      "outputs": [
        {
          "name": "stdout",
          "output_type": "stream",
          "text": [
            "some sample features(unique words in the corpus) ['aa', 'aafco', 'aback', 'abandon', 'abandoned', 'abdominal', 'ability', 'able', 'able add', 'able brew']\n",
            "==================================================\n",
            "the type of count vectorizer  <class 'scipy.sparse.csr.csr_matrix'>\n",
            "the shape of out text TFIDF vectorizer  (87773, 51709)\n",
            "the number of unique words including both unigrams and bigrams  51709\n"
          ]
        }
      ],
      "source": [
        "tf_idf_vect = TfidfVectorizer(ngram_range=(1,2), min_df=10)\n",
        "tf_idf_vect.fit(preprocessed_reviews)\n",
        "print(\"some sample features(unique words in the corpus)\",tf_idf_vect.get_feature_names()[0:10])\n",
        "print('='*50)\n",
        "\n",
        "final_tf_idf = tf_idf_vect.transform(preprocessed_reviews)\n",
        "print(\"the type of count vectorizer \",type(final_tf_idf))\n",
        "print(\"the shape of out text TFIDF vectorizer \",final_tf_idf.get_shape())\n",
        "print(\"the number of unique words including both unigrams and bigrams \", final_tf_idf.get_shape()[1])"
      ]
    },
    {
      "cell_type": "markdown",
      "metadata": {
        "id": "9kpriSSvDYL8"
      },
      "source": [
        "###<font color='green'><b>Word2Vec"
      ]
    },
    {
      "cell_type": "code",
      "execution_count": null,
      "metadata": {
        "collapsed": true,
        "id": "zm7QLZ2jDYL-"
      },
      "outputs": [],
      "source": [
        "# Train your own Word2Vec model using your own text corpus\n",
        "i=0\n",
        "list_of_sentance=[]\n",
        "for sentance in preprocessed_reviews:\n",
        "    list_of_sentance.append(sentance.split())"
      ]
    },
    {
      "cell_type": "code",
      "execution_count": null,
      "metadata": {
        "colab": {
          "base_uri": "https://localhost:8080/",
          "height": 89
        },
        "id": "mLAtDE_UDYMF",
        "outputId": "6110a9d8-156d-4f25-fdb4-a7c66657caa3",
        "scrolled": true
      },
      "outputs": [
        {
          "name": "stdout",
          "output_type": "stream",
          "text": [
            "[('fantastic', 0.8491503596305847), ('awesome', 0.8405653834342957), ('good', 0.8301473259925842), ('excellent', 0.8109509944915771), ('terrific', 0.8074146509170532), ('wonderful', 0.7730129361152649), ('perfect', 0.7454617023468018), ('amazing', 0.7358652353286743), ('nice', 0.7245548367500305), ('decent', 0.7187523245811462)]\n",
            "==================================================\n",
            "[('greatest', 0.7807512879371643), ('best', 0.7284427881240845), ('tastiest', 0.6810902953147888), ('nastiest', 0.6746965646743774), ('disgusting', 0.6406658887863159), ('horrible', 0.6192571520805359), ('terrible', 0.6101971864700317), ('awful', 0.6071272492408752), ('closest', 0.6023781895637512), ('freshest', 0.5998597741127014)]\n"
          ]
        }
      ],
      "source": [
        "# Using Google News Word2Vectors\n",
        "\n",
        "# in this project we are using a pretrained model by google\n",
        "# its 3.3G file, once you load this into your memory \n",
        "# it occupies ~9Gb, so please do this step only if you have >12G of ram\n",
        "# we will provide a pickle file wich contains a dict , \n",
        "# and it contains all our courpus words as keys and  model[word] as values\n",
        "# To use this code-snippet, download \"GoogleNews-vectors-negative300.bin\" \n",
        "# from https://drive.google.com/file/d/0B7XkCwpI5KDYNlNUTTlSS21pQmM/edit\n",
        "# it's 1.9GB in size.\n",
        "\n",
        "\n",
        "# http://kavita-ganesan.com/gensim-word2vec-tutorial-starter-code/#.W17SRFAzZPY\n",
        "# you can comment this whole cell\n",
        "# or change these varible according to your need\n",
        "\n",
        "is_your_ram_gt_16g=False\n",
        "want_to_use_google_w2v = False\n",
        "want_to_train_w2v = True\n",
        "\n",
        "if want_to_train_w2v:\n",
        "    # min_count = 5 considers only words that occured atleast 5 times\n",
        "    w2v_model=Word2Vec(list_of_sentance,min_count=5,size=50, workers=4)\n",
        "    print(w2v_model.wv.most_similar('great'))\n",
        "    print('='*50)\n",
        "    print(w2v_model.wv.most_similar('worst'))\n",
        "    \n",
        "elif want_to_use_google_w2v and is_your_ram_gt_16g:\n",
        "    if os.path.isfile('GoogleNews-vectors-negative300.bin'):\n",
        "        w2v_model=KeyedVectors.load_word2vec_format('GoogleNews-vectors-negative300.bin', binary=True)\n",
        "        print(w2v_model.wv.most_similar('great'))\n",
        "        print(w2v_model.wv.most_similar('worst'))\n",
        "    else:\n",
        "        print(\"you don't have gogole's word2vec file, keep want_to_train_w2v = True, to train your own w2v \")"
      ]
    },
    {
      "cell_type": "code",
      "execution_count": null,
      "metadata": {
        "colab": {
          "base_uri": "https://localhost:8080/",
          "height": 72
        },
        "id": "hTiK-q0NDYMN",
        "outputId": "b7fdf550-f04c-4b9b-9225-bb543f3f4c27"
      },
      "outputs": [
        {
          "name": "stdout",
          "output_type": "stream",
          "text": [
            "number of words that occured minimum 5 times  17386\n",
            "sample words  ['dogs', 'loves', 'chicken', 'product', 'china', 'wont', 'buying', 'anymore', 'hard', 'find', 'products', 'made', 'usa', 'one', 'isnt', 'bad', 'good', 'take', 'chances', 'till', 'know', 'going', 'imports', 'love', 'saw', 'pet', 'store', 'tag', 'attached', 'regarding', 'satisfied', 'safe', 'infestation', 'literally', 'everywhere', 'flying', 'around', 'kitchen', 'bought', 'hoping', 'least', 'get', 'rid', 'weeks', 'fly', 'stuck', 'squishing', 'buggers', 'success', 'rate']\n"
          ]
        }
      ],
      "source": [
        "w2v_words = list(w2v_model.wv.vocab)\n",
        "print(\"number of words that occured minimum 5 times \",len(w2v_words))\n",
        "print(\"sample words \", w2v_words[0:50])"
      ]
    },
    {
      "cell_type": "markdown",
      "metadata": {
        "id": "cse_ZlapDYMX"
      },
      "source": [
        "####<font color='green'><b>Converting text into vectors using Avg W2V, TFIDF-W2V"
      ]
    },
    {
      "cell_type": "markdown",
      "metadata": {
        "id": "3H0BUlYEDYMY"
      },
      "source": [
        "#####<font color='green'><b>Avg W2v"
      ]
    },
    {
      "cell_type": "code",
      "execution_count": null,
      "metadata": {
        "colab": {
          "base_uri": "https://localhost:8080/",
          "height": 69
        },
        "id": "czBD_JcEDYMY",
        "outputId": "cb45139a-5844-47eb-9cbd-0662298a59c0"
      },
      "outputs": [
        {
          "name": "stderr",
          "output_type": "stream",
          "text": [
            "100%|██████████| 87773/87773 [03:42<00:00, 394.91it/s]\n"
          ]
        },
        {
          "name": "stdout",
          "output_type": "stream",
          "text": [
            "87773\n",
            "50\n"
          ]
        }
      ],
      "source": [
        "# average Word2Vec\n",
        "# compute average word2vec for each review.\n",
        "sent_vectors = []; # the avg-w2v for each sentence/review is stored in this list\n",
        "\n",
        "for sent in tqdm(list_of_sentance): # for each review/sentence\n",
        "    sent_vec = np.zeros(50) # as word vectors are of zero length 50, you might need to change this to 300 if you use google's w2v\n",
        "    cnt_words =0; # num of words with a valid vector in the sentence/review\n",
        "    for word in sent: # for each word in a review/sentence\n",
        "        if word in w2v_words:\n",
        "            vec = w2v_model.wv[word]\n",
        "            sent_vec += vec\n",
        "            cnt_words += 1\n",
        "    if cnt_words != 0:\n",
        "        sent_vec /= cnt_words\n",
        "    sent_vectors.append(sent_vec)\n",
        "print(len(sent_vectors))\n",
        "print(len(sent_vectors[0]))"
      ]
    },
    {
      "cell_type": "markdown",
      "metadata": {
        "id": "ZKhyFyhmDYMd"
      },
      "source": [
        "#####<font color='green'><b>TFIDF weighted W2v"
      ]
    },
    {
      "cell_type": "code",
      "execution_count": null,
      "metadata": {
        "collapsed": true,
        "id": "2UmpXW92DYMe"
      },
      "outputs": [],
      "source": [
        "# S = [\"abc def pqr\", \"def def def abc\", \"pqr pqr def\"]\n",
        "model = TfidfVectorizer()\n",
        "tf_idf_matrix = model.fit_transform(preprocessed_reviews)\n",
        "# we are converting a dictionary with word as a key, and the idf as a value\n",
        "dictionary = dict(zip(model.get_feature_names(), list(model.idf_)))"
      ]
    },
    {
      "cell_type": "code",
      "execution_count": null,
      "metadata": {
        "colab": {
          "base_uri": "https://localhost:8080/",
          "height": 34
        },
        "id": "yJgfDSnUDYMk",
        "outputId": "a38a6185-f54b-4438-db12-4f01c074eb47",
        "scrolled": true
      },
      "outputs": [
        {
          "name": "stderr",
          "output_type": "stream",
          "text": [
            "100%|██████████| 87773/87773 [49:07<00:00, 29.78it/s]\n"
          ]
        }
      ],
      "source": [
        "# TF-IDF weighted Word2Vec\n",
        "tfidf_feat = model.get_feature_names() # tfidf words/col-names\n",
        "# final_tf_idf is the sparse matrix with row= sentence, col=word and cell_val = tfidf\n",
        "\n",
        "tfidf_sent_vectors = []; # the tfidf-w2v for each sentence/review is stored in this list\n",
        "row=0;\n",
        "for sent in tqdm(list_of_sentance): # for each review/sentence \n",
        "    sent_vec = np.zeros(50) # as word vectors are of zero length\n",
        "    weight_sum =0; # num of words with a valid vector in the sentence/review\n",
        "    for word in sent: # for each word in a review/sentence\n",
        "        if word in w2v_words and word in tfidf_feat:\n",
        "            vec = w2v_model.wv[word]\n",
        "#             tf_idf = tf_idf_matrix[row, tfidf_feat.index(word)]\n",
        "            # to reduce the computation we are \n",
        "            # dictionary[word] = idf value of word in whole courpus\n",
        "            # sent.count(word) = tf valeus of word in this review\n",
        "            tf_idf = dictionary[word]*(sent.count(word)/len(sent))\n",
        "            sent_vec += (vec * tf_idf)\n",
        "            weight_sum += tf_idf\n",
        "    if weight_sum != 0:\n",
        "        sent_vec /= weight_sum\n",
        "    tfidf_sent_vectors.append(sent_vec)\n",
        "    row += 1"
      ]
    },
    {
      "cell_type": "code",
      "execution_count": null,
      "metadata": {
        "collapsed": true,
        "id": "3EtZLF6tPKCg"
      },
      "outputs": [],
      "source": [
        "# Confusion matrix print function \n",
        "def ConfusionMatrixPrint(cm):\n",
        "  class_label = [\"negative\", \"positive\"]\n",
        "  df_cm = pd.DataFrame(cm, index = class_label, columns = class_label)\n",
        "  sns.heatmap(df_cm, annot = True, fmt = \"d\")\n",
        "  plt.title(\"Confusion Matrix\")\n",
        "  plt.xlabel(\"Predicted Label\")\n",
        "  plt.ylabel(\"True Label\")\n",
        "  plt.show()\n",
        "  \n",
        "def ROCCurvePrint(fpr,tpr, fpr_tr, tpr_tr):\n",
        "  plt.figure()\n",
        "  plt.plot(fpr, tpr,label='Test ROC curve' ,\n",
        "           color='darkorange', linestyle=':', linewidth=4)\n",
        "\n",
        "  plt.plot(fpr_tr, tpr_tr,label='Train ROC curve',\n",
        "           color='navy', linestyle=':', linewidth=4)\n",
        "  plt.plot([0, 1], [0, 1], 'k--')\n",
        "  plt.xlim([0.0, 1.0])\n",
        "  plt.ylim([0.0, 1.05])\n",
        "  plt.xlabel('False Positive Rate')\n",
        "  plt.ylabel('True Positive Rate')\n",
        "  plt.title('ROC CURVE ')\n",
        "  plt.legend(loc=\"lower right\")\n",
        "  plt.show()"
      ]
    },
    {
      "cell_type": "markdown",
      "metadata": {
        "id": "WEbTAOWHDYMu"
      },
      "source": [
        "##<font color='green'><b>Applying KNN brute force"
      ]
    },
    {
      "cell_type": "code",
      "execution_count": null,
      "metadata": {
        "collapsed": true,
        "id": "XlY9-f7AZ4xR"
      },
      "outputs": [],
      "source": [
        "from sklearn.model_selection import cross_validate\n",
        "from sklearn.model_selection import train_test_split\n",
        "from sklearn.neighbors import KNeighborsClassifier\n",
        "from sklearn.metrics import confusion_matrix"
      ]
    },
    {
      "cell_type": "code",
      "execution_count": null,
      "metadata": {
        "colab": {
          "base_uri": "https://localhost:8080/",
          "height": 104
        },
        "id": "Ueicj1COZ5xZ",
        "outputId": "dea94fa6-be00-4f77-ceb3-29c6dc2263b1"
      },
      "outputs": [
        {
          "name": "stdout",
          "output_type": "stream",
          "text": [
            "87773\n",
            "87773\n",
            "1    73592\n",
            "0    14181\n",
            "Name: Score, dtype: int64\n"
          ]
        }
      ],
      "source": [
        "X = preprocessed_reviews\n",
        "y = final['Score']\n",
        "print(len(X))\n",
        "print(len(y))\n",
        "print(y.value_counts())\n",
        "# Random Splitting of data using train_test_split\n",
        "X_1, X_test, y_1, y_test = train_test_split(X, y, test_size=0.3, random_state=0)\n",
        "X_tr, X_cv, y_tr, y_cv = train_test_split(X_1, y_1, test_size=0.3)\n",
        "\n"
      ]
    },
    {
      "cell_type": "markdown",
      "metadata": {
        "id": "ArO5fI7kDYMv"
      },
      "source": [
        "### [5.1.1] Applying KNN brute force on BOW,<font color='red'> SET 1</font>"
      ]
    },
    {
      "cell_type": "code",
      "execution_count": null,
      "metadata": {
        "colab": {
          "base_uri": "https://localhost:8080/",
          "height": 52
        },
        "id": "Rw_A_9pfDYMw",
        "outputId": "6bd3d87c-eb73-4556-b7ec-a163935a25d3"
      },
      "outputs": [
        {
          "name": "stdout",
          "output_type": "stream",
          "text": [
            "Ranges of values from where we search for great penalty\n",
            " [1, 3, 5, 7, 9, 11, 13, 15, 17, 19, 21, 23]\n"
          ]
        }
      ],
      "source": [
        "cv_auc = []\n",
        "train_auc = []\n",
        "iterator = []\n",
        "END = 25\n",
        "start = 1\n",
        "while start < END:\n",
        "  clf = KNeighborsClassifier(n_neighbors = start)\n",
        "  vectorizer =  CountVectorizer()\n",
        "  vectorizer.fit(X_tr)\n",
        "  X_tr_bow = vectorizer.transform(X_tr)\n",
        "  clf.fit(X_tr_bow,y_tr)\n",
        "  X_cv_bow = vectorizer.transform(X_cv)\n",
        "  y_cv_predict = np.array(clf.predict_proba(X_cv_bow))\n",
        "  preds = np.max(y_cv_predict,axis=1)\n",
        "  fpr, tpr, threshold = metrics.roc_curve(y_cv, preds)\n",
        "  cvAUC = metrics.auc(fpr, tpr)\n",
        "  y_tr_predict = np.array(clf.predict_proba(X_tr_bow))\n",
        "  y_tr_predict = np.max(y_tr_predict,axis=1)\n",
        "  fpr_tr, tpr_tr, threshold_tr = metrics.roc_curve(y_tr, y_tr_predict)\n",
        "  trainAUC = metrics.auc(fpr_tr, tpr_tr)\n",
        "  cv_auc.append(cvAUC)\n",
        "  train_auc.append(trainAUC)\n",
        "  iterator.append(start)\n",
        "  start += 2\n",
        "  \n",
        "print(\"Ranges of values from where we search for great penalty\\n\",iterator)\n"
      ]
    },
    {
      "cell_type": "code",
      "execution_count": null,
      "metadata": {
        "colab": {
          "base_uri": "https://localhost:8080/",
          "height": 283
        },
        "id": "N86jjgU6bXEW",
        "outputId": "0d9d821e-f13e-48cb-bfb5-c97ee7b01dbd"
      },
      "outputs": [
        {
          "data": {
            "image/png": "[encoded data removed]",
            "text/plain": [
              "<Figure size 432x288 with 1 Axes>"
            ]
          },
          "metadata": {
            "tags": []
          },
          "output_type": "display_data"
        }
      ],
      "source": [
        "#plotting the graph \n",
        "plt.plot(iterator, cv_auc, linewidth=2)\n",
        "plt.plot(iterator, train_auc, linewidth=2)\n",
        "plt.axis('tight')\n",
        "plt.grid()\n",
        "plt.xlabel('Hyper parameter values')\n",
        "plt.ylabel('AUC')\n",
        "plt.legend(['Cross validation AUC', 'Train AUC'], loc='upper right')\n",
        "plt.show()"
      ]
    },
    {
      "cell_type": "markdown",
      "metadata": {
        "id": "rY7z_JwnbkK6"
      },
      "source": [
        "#### Building Model on Optimal Hyperparameter k=12"
      ]
    },
    {
      "cell_type": "code",
      "execution_count": null,
      "metadata": {
        "colab": {
          "base_uri": "https://localhost:8080/",
          "height": 69
        },
        "id": "91z4iy9FbksP",
        "outputId": "b34780e2-17e9-471c-9386-b1b921ec788b"
      },
      "outputs": [
        {
          "data": {
            "text/plain": [
              "KNeighborsClassifier(algorithm='auto', leaf_size=30, metric='minkowski',\n",
              "           metric_params=None, n_jobs=None, n_neighbors=12, p=2,\n",
              "           weights='uniform')"
            ]
          },
          "execution_count": 48,
          "metadata": {
            "tags": []
          },
          "output_type": "execute_result"
        }
      ],
      "source": [
        "clf = KNeighborsClassifier(n_neighbors = 12 )\n",
        "vectorizer =  CountVectorizer()\n",
        "vectorizer.fit(X_tr)\n",
        "X_tr_bow = vectorizer.transform(X_tr)\n",
        "clf.fit(X_tr_bow, y_tr)"
      ]
    },
    {
      "cell_type": "code",
      "execution_count": null,
      "metadata": {
        "colab": {
          "base_uri": "https://localhost:8080/",
          "height": 642
        },
        "id": "j1MCrpZxcOVk",
        "outputId": "e048e9f6-01d3-4969-f01d-6cf0004ce045"
      },
      "outputs": [
        {
          "name": "stdout",
          "output_type": "stream",
          "text": [
            "Confusion Matrix on Train \n",
            "\n"
          ]
        },
        {
          "data": {
            "image/png": "[encoded data removed]",
            "text/plain": [
              "<Figure size 432x288 with 2 Axes>"
            ]
          },
          "metadata": {
            "tags": []
          },
          "output_type": "display_data"
        },
        {
          "name": "stdout",
          "output_type": "stream",
          "text": [
            "Confusion Matrix on Test \n",
            "\n"
          ]
        },
        {
          "data": {
            "image/png": "[encoded data removed]",
            "text/plain": [
              "<Figure size 432x288 with 2 Axes>"
            ]
          },
          "metadata": {
            "tags": []
          },
          "output_type": "display_data"
        }
      ],
      "source": [
        "predict = clf.predict(X_tr_bow)\n",
        "cm = metrics.confusion_matrix(y_tr, predict)\n",
        "print(\"Confusion Matrix on Train \\n\")\n",
        "ConfusionMatrixPrint(cm)\n",
        "test_dtm = vectorizer.transform(X_test)\n",
        "predict = clf.predict(test_dtm)\n",
        "cm = metrics.confusion_matrix(y_test, predict)\n",
        "print(\"Confusion Matrix on Test \\n\")\n",
        "ConfusionMatrixPrint(cm)"
      ]
    },
    {
      "cell_type": "code",
      "execution_count": null,
      "metadata": {
        "colab": {
          "base_uri": "https://localhost:8080/",
          "height": 330
        },
        "id": "iM1-_IxacNPa",
        "outputId": "43f3f8aa-d77e-49c5-9d2a-9a97ee4dffc5"
      },
      "outputs": [
        {
          "name": "stdout",
          "output_type": "stream",
          "text": [
            "**** TEST AUC ***  0.6605083592964334\n",
            "**** TRAIN AUC *****  0.7962114843852538\n"
          ]
        },
        {
          "data": {
            "image/png": "[encoded data removed]",
            "text/plain": [
              "<Figure size 432x288 with 1 Axes>"
            ]
          },
          "metadata": {
            "tags": []
          },
          "output_type": "display_data"
        }
      ],
      "source": [
        "y_cv_predict = np.array(clf.predict_proba(test_dtm))\n",
        "preds = np.max(y_cv_predict,axis=1)\n",
        "fpr, tpr, threshold = metrics.roc_curve(y_test, preds)\n",
        "roc_auc = metrics.auc(fpr, tpr)\n",
        "print(\"**** TEST AUC *** \", roc_auc)\n",
        "y_tr_predict = np.array(clf.predict_proba(X_tr_bow))\n",
        "y_tr_predict = np.max(y_tr_predict,axis=1)\n",
        "fpr_tr, tpr_tr, threshold_tr = metrics.roc_curve(y_tr, y_tr_predict)\n",
        "#calculating AUC\n",
        "auc = metrics.auc(fpr_tr, tpr_tr)\n",
        "print(\"**** TRAIN AUC ***** \", auc)\n",
        "ROCCurvePrint(fpr,tpr, fpr_tr, tpr_tr)"
      ]
    },
    {
      "cell_type": "markdown",
      "metadata": {
        "id": "m0UxvEKBDYM8"
      },
      "source": [
        "### [5.1.2] Applying KNN brute force on TFIDF,<font color='red'> SET 2</font>"
      ]
    },
    {
      "cell_type": "code",
      "execution_count": null,
      "metadata": {
        "colab": {
          "base_uri": "https://localhost:8080/",
          "height": 52
        },
        "id": "5ffXQxa7DYM9",
        "outputId": "9150954b-aef5-4432-cdce-32bdc724b5f2"
      },
      "outputs": [
        {
          "name": "stdout",
          "output_type": "stream",
          "text": [
            "Ranges of values from where we search for great penalty\n",
            " [1, 3, 5, 7, 9, 11, 13, 15, 17]\n"
          ]
        }
      ],
      "source": [
        "cv_auc = []\n",
        "train_auc = []\n",
        "iterator = []\n",
        "END = 19\n",
        "start = 1\n",
        "while start < END:\n",
        "  clf = KNeighborsClassifier(n_neighbors = start)\n",
        "  vectorizer =  TfidfVectorizer()\n",
        "  vectorizer.fit(X_tr)\n",
        "  X_tr_bow = vectorizer.transform(X_tr)\n",
        "  clf.fit(X_tr_bow,y_tr)\n",
        "  X_cv_bow = vectorizer.transform(X_cv)\n",
        "  y_cv_predict = np.array(clf.predict_proba(X_cv_bow))\n",
        "  preds = np.max(y_cv_predict,axis=1)\n",
        "  fpr, tpr, threshold = metrics.roc_curve(y_cv, preds)\n",
        "  cvAUC = metrics.auc(fpr, tpr)\n",
        "  y_tr_predict = np.array(clf.predict_proba(X_tr_bow))\n",
        "  y_tr_predict = np.max(y_tr_predict,axis=1)\n",
        "  fpr_tr, tpr_tr, threshold_tr = metrics.roc_curve(y_tr, y_tr_predict)\n",
        "  trainAUC = metrics.auc(fpr_tr, tpr_tr)\n",
        "  cv_auc.append(cvAUC)\n",
        "  train_auc.append(trainAUC)\n",
        "  iterator.append(start)\n",
        "  start += 2\n",
        "  \n",
        "print(\"Ranges of values from where we search for great penalty\\n\",iterator)\n"
      ]
    },
    {
      "cell_type": "code",
      "execution_count": null,
      "metadata": {
        "colab": {
          "base_uri": "https://localhost:8080/",
          "height": 283
        },
        "id": "i5Zd276_gXfR",
        "outputId": "0dc6cf58-49f2-4bc6-dc29-c6ad50bf707d"
      },
      "outputs": [
        {
          "data": {
            "image/png": "[encoded data removed]",
            "text/plain": [
              "<Figure size 432x288 with 1 Axes>"
            ]
          },
          "metadata": {
            "tags": []
          },
          "output_type": "display_data"
        }
      ],
      "source": [
        "#plotting the graph \n",
        "plt.plot(iterator, cv_auc, linewidth=2)\n",
        "plt.plot(iterator, train_auc, linewidth=2)\n",
        "plt.axis('tight')\n",
        "plt.grid()\n",
        "plt.xlabel('Hyper parameter values')\n",
        "plt.ylabel('AUC')\n",
        "plt.legend(['Cross validation AUC', 'Train AUC'], loc='upper right')\n",
        "plt.show()"
      ]
    },
    {
      "cell_type": "markdown",
      "metadata": {
        "id": "eZsI6aFMgZ2t"
      },
      "source": [
        "#### Building Model on optimal hyperaparameter k= 8"
      ]
    },
    {
      "cell_type": "code",
      "execution_count": null,
      "metadata": {
        "colab": {
          "base_uri": "https://localhost:8080/",
          "height": 69
        },
        "id": "KMw7aFYvhj2J",
        "outputId": "45dc8c2d-cc07-412b-980e-b2428c1c0b55"
      },
      "outputs": [
        {
          "data": {
            "text/plain": [
              "KNeighborsClassifier(algorithm='auto', leaf_size=30, metric='minkowski',\n",
              "           metric_params=None, n_jobs=None, n_neighbors=8, p=2,\n",
              "           weights='uniform')"
            ]
          },
          "execution_count": 53,
          "metadata": {
            "tags": []
          },
          "output_type": "execute_result"
        }
      ],
      "source": [
        "clf = KNeighborsClassifier(n_neighbors = 8 )\n",
        "vectorizer =  CountVectorizer()\n",
        "vectorizer.fit(X_tr)\n",
        "X_tr_bow = vectorizer.transform(X_tr)\n",
        "clf.fit(X_tr_bow, y_tr)\n"
      ]
    },
    {
      "cell_type": "code",
      "execution_count": null,
      "metadata": {
        "colab": {
          "base_uri": "https://localhost:8080/",
          "height": 642
        },
        "id": "j-PtW90yhq01",
        "outputId": "f7088443-e2ed-4046-9da1-e4803d92b40c"
      },
      "outputs": [
        {
          "name": "stdout",
          "output_type": "stream",
          "text": [
            "Confusion Matrix on Train \n",
            "\n"
          ]
        },
        {
          "data": {
            "image/png": "[encoded data removed]",
            "text/plain": [
              "<Figure size 432x288 with 2 Axes>"
            ]
          },
          "metadata": {
            "tags": []
          },
          "output_type": "display_data"
        },
        {
          "name": "stdout",
          "output_type": "stream",
          "text": [
            "Confusion Matrix on Test \n",
            "\n"
          ]
        },
        {
          "data": {
            "image/png": "[encoded data removed]",
            "text/plain": [
              "<Figure size 432x288 with 2 Axes>"
            ]
          },
          "metadata": {
            "tags": []
          },
          "output_type": "display_data"
        }
      ],
      "source": [
        "predict = clf.predict(X_tr_bow)\n",
        "cm = metrics.confusion_matrix(y_tr, predict)\n",
        "print(\"Confusion Matrix on Train \\n\")\n",
        "ConfusionMatrixPrint(cm)\n",
        "test_dtm = vectorizer.transform(X_test)\n",
        "predict = clf.predict(test_dtm)\n",
        "cm = metrics.confusion_matrix(y_test, predict)\n",
        "print(\"Confusion Matrix on Test \\n\")\n",
        "ConfusionMatrixPrint(cm)"
      ]
    },
    {
      "cell_type": "code",
      "execution_count": null,
      "metadata": {
        "colab": {
          "base_uri": "https://localhost:8080/",
          "height": 330
        },
        "id": "wFsg1PN5hvNU",
        "outputId": "6f3939c3-fc16-4527-975b-a3fb54aa74fa"
      },
      "outputs": [
        {
          "name": "stdout",
          "output_type": "stream",
          "text": [
            "**** TEST AUC ***  0.6488380720913025\n",
            "**** TRAIN AUC *****  0.8089756737156444\n"
          ]
        },
        {
          "data": {
            "image/png": "[encoded data removed]",
            "text/plain": [
              "<Figure size 432x288 with 1 Axes>"
            ]
          },
          "metadata": {
            "tags": []
          },
          "output_type": "display_data"
        }
      ],
      "source": [
        "y_cv_predict = np.array(clf.predict_proba(test_dtm))\n",
        "preds = np.max(y_cv_predict,axis=1)\n",
        "fpr, tpr, threshold = metrics.roc_curve(y_test, preds)\n",
        "roc_auc = metrics.auc(fpr, tpr)\n",
        "print(\"**** TEST AUC *** \", roc_auc)\n",
        "y_tr_predict = np.array(clf.predict_proba(X_tr_bow))\n",
        "y_tr_predict = np.max(y_tr_predict,axis=1)\n",
        "fpr_tr, tpr_tr, threshold_tr = metrics.roc_curve(y_tr, y_tr_predict)\n",
        "#calculating AUC\n",
        "auc = metrics.auc(fpr_tr, tpr_tr)\n",
        "print(\"**** TRAIN AUC ***** \", auc)\n",
        "ROCCurvePrint(fpr,tpr, fpr_tr, tpr_tr)"
      ]
    },
    {
      "cell_type": "markdown",
      "metadata": {
        "id": "sgcPCRG8DYNC"
      },
      "source": [
        "### [5.1.3] Applying KNN brute force on AVG W2V,<font color='red'> SET 3</font>"
      ]
    },
    {
      "cell_type": "markdown",
      "metadata": {
        "id": "OqVcKI-tnkAm"
      },
      "source": [
        "##### Generating our Word2Vec from Train Data"
      ]
    },
    {
      "cell_type": "code",
      "execution_count": null,
      "metadata": {
        "collapsed": true,
        "id": "bT4Dm8fiDYNL"
      },
      "outputs": [],
      "source": [
        "training_words = []\n",
        "for sentance in X_tr:\n",
        "    training_words.append(sentance.split())\n",
        "w2v_model=Word2Vec(training_words,min_count=5,size=50, workers=4)\n"
      ]
    },
    {
      "cell_type": "code",
      "execution_count": null,
      "metadata": {
        "collapsed": true,
        "id": "IXKXtwiTosQ-"
      },
      "outputs": [],
      "source": [
        "w2v_words = list(w2v_model.wv.vocab)\n",
        "X_tr_vectors = []; # the avg-w2v for each sentence/review is stored in this list\n",
        "# print(w2v_model.wv.vocab)\n",
        "for sent in (training_words): # for each review/sentence\n",
        "    sent_vec = np.zeros(50) # as word vectors are of zero length 50, you might need to change this to 300 if you use google's w2v\n",
        "    cnt_words =0; # num of words with a valid vector in the sentence/review\n",
        "    for word in sent: # for each word in a review/sentence\n",
        "        if word in w2v_words:\n",
        "            vec = w2v_model.wv[word]\n",
        "            sent_vec += vec\n",
        "            cnt_words += 1\n",
        "    if cnt_words != 0:\n",
        "        sent_vec /= cnt_words\n",
        "    X_tr_vectors.append(sent_vec)\n"
      ]
    },
    {
      "cell_type": "code",
      "execution_count": null,
      "metadata": {
        "collapsed": true,
        "id": "UUpTJHoBwqa5"
      },
      "outputs": [],
      "source": [
        "cv_words = []\n",
        "for sentance in X_cv:\n",
        "    cv_words.append(sentance.split())\n",
        "\n",
        "X_cv_vectors = []; # the avg-w2v for each sentence/review is stored in this list\n",
        "# print(w2v_model.wv.vocab)\n",
        "for sent in cv_words: # for each review/sentence\n",
        "    sent_vec = np.zeros(50) # as word vectors are of zero length 50, you might need to change this to 300 if you use google's w2v\n",
        "    cnt_words =0; # num of words with a valid vector in the sentence/review\n",
        "    for word in sent: # for each word in a review/sentence\n",
        "        if word in w2v_words:\n",
        "            vec = w2v_model.wv[word]\n",
        "            sent_vec += vec\n",
        "            cnt_words += 1\n",
        "    if cnt_words != 0:\n",
        "        sent_vec /= cnt_words\n",
        "    X_cv_vectors.append(sent_vec)\n"
      ]
    },
    {
      "cell_type": "code",
      "execution_count": null,
      "metadata": {
        "collapsed": true,
        "id": "NzYfoFjexqFZ"
      },
      "outputs": [],
      "source": [
        "test_words = []\n",
        "for sentance in X_test:\n",
        "    test_words.append(sentance.split())\n",
        "\n",
        "X_test_vectors = []; # the avg-w2v for each sentence/review is stored in this list\n",
        "# print(w2v_model.wv.vocab)\n",
        "for sent in test_words: # for each review/sentence\n",
        "    sent_vec = np.zeros(50) # as word vectors are of zero length 50, you might need to change this to 300 if you use google's w2v\n",
        "    cnt_words =0; # num of words with a valid vector in the sentence/review\n",
        "    for word in sent: # for each word in a review/sentence\n",
        "        if word in w2v_words:\n",
        "            vec = w2v_model.wv[word]\n",
        "            sent_vec += vec\n",
        "            cnt_words += 1\n",
        "    if cnt_words != 0:\n",
        "        sent_vec /= cnt_words\n",
        "    X_test_vectors.append(sent_vec)"
      ]
    },
    {
      "cell_type": "markdown",
      "metadata": {
        "id": "FoZmazzQyHGT"
      },
      "source": [
        "#### Buiding Model with hyperparameter tuning"
      ]
    },
    {
      "cell_type": "code",
      "execution_count": null,
      "metadata": {
        "colab": {
          "base_uri": "https://localhost:8080/",
          "height": 52
        },
        "id": "740NifOKyBkb",
        "outputId": "87d3b64d-3ba9-4532-870d-b5c08915cd25"
      },
      "outputs": [
        {
          "name": "stdout",
          "output_type": "stream",
          "text": [
            "Ranges of values from where we search for great penalty\n",
            " [1, 3, 5, 7, 9, 11, 13, 15]\n"
          ]
        }
      ],
      "source": [
        "cv_auc = []\n",
        "train_auc = []\n",
        "iterator = []\n",
        "END = 16\n",
        "start = 1\n",
        "while start < END:\n",
        "  clf = KNeighborsClassifier(n_neighbors = start)\n",
        "  clf.fit(X_tr_vectors,y_tr)\n",
        "  y_cv_predict = np.array(clf.predict_proba(X_cv_vectors))\n",
        "  preds = np.max(y_cv_predict,axis=1)\n",
        "  fpr, tpr, threshold = metrics.roc_curve(y_cv, preds)\n",
        "  cvAUC = metrics.auc(fpr, tpr)\n",
        "  y_tr_predict = np.array(clf.predict_proba(X_tr_vectors))\n",
        "  y_tr_predict = np.max(y_tr_predict,axis=1)\n",
        "  fpr_tr, tpr_tr, threshold_tr = metrics.roc_curve(y_tr, y_tr_predict)\n",
        "  trainAUC = metrics.auc(fpr_tr, tpr_tr)\n",
        "  cv_auc.append(cvAUC)\n",
        "  train_auc.append(trainAUC)\n",
        "  iterator.append(start)\n",
        "  start += 2\n",
        "  \n",
        "print(\"Ranges of values from where we search for great penalty\\n\",iterator)\n"
      ]
    },
    {
      "cell_type": "code",
      "execution_count": null,
      "metadata": {
        "colab": {
          "base_uri": "https://localhost:8080/",
          "height": 283
        },
        "id": "TUC4d9izyuuO",
        "outputId": "b21d3917-bed4-4624-e75d-55a74b5b65c6"
      },
      "outputs": [
        {
          "data": {
            "image/png": "[encoded data removed]",
            "text/plain": [
              "<Figure size 432x288 with 1 Axes>"
            ]
          },
          "metadata": {
            "tags": []
          },
          "output_type": "display_data"
        }
      ],
      "source": [
        "#plotting the graph \n",
        "plt.plot(iterator, cv_auc, linewidth=2)\n",
        "plt.plot(iterator, train_auc, linewidth=2)\n",
        "plt.axis('tight')\n",
        "plt.grid()\n",
        "plt.xlabel('Hyper parameter values')\n",
        "plt.ylabel('AUC')\n",
        "plt.legend(['Cross validation AUC', 'Train AUC'], loc='upper right')\n",
        "plt.show()"
      ]
    },
    {
      "cell_type": "markdown",
      "metadata": {
        "id": "nqQEFSL1zu5B"
      },
      "source": [
        "#### Optimal Hyperparameter is K = 13"
      ]
    },
    {
      "cell_type": "code",
      "execution_count": null,
      "metadata": {
        "colab": {
          "base_uri": "https://localhost:8080/",
          "height": 69
        },
        "id": "IDKUYzPQy0Rv",
        "outputId": "b4528895-0ca5-4c24-dafd-d132971208a5"
      },
      "outputs": [
        {
          "data": {
            "text/plain": [
              "KNeighborsClassifier(algorithm='auto', leaf_size=30, metric='minkowski',\n",
              "           metric_params=None, n_jobs=None, n_neighbors=13, p=2,\n",
              "           weights='uniform')"
            ]
          },
          "execution_count": 62,
          "metadata": {
            "tags": []
          },
          "output_type": "execute_result"
        }
      ],
      "source": [
        "clf = KNeighborsClassifier(n_neighbors = 13 )\n",
        "clf.fit(X_tr_vectors, y_tr)"
      ]
    },
    {
      "cell_type": "code",
      "execution_count": null,
      "metadata": {
        "colab": {
          "base_uri": "https://localhost:8080/",
          "height": 642
        },
        "id": "U97omkG6y-m7",
        "outputId": "d9e8e97c-7055-4295-bacb-969c51034481"
      },
      "outputs": [
        {
          "name": "stdout",
          "output_type": "stream",
          "text": [
            "Confusion Matrix on Train \n",
            "\n"
          ]
        },
        {
          "data": {
            "image/png": "[encoded data removed]",
            "text/plain": [
              "<Figure size 432x288 with 2 Axes>"
            ]
          },
          "metadata": {
            "tags": []
          },
          "output_type": "display_data"
        },
        {
          "name": "stdout",
          "output_type": "stream",
          "text": [
            "Confusion Matrix on Test \n",
            "\n"
          ]
        },
        {
          "data": {
            "image/png": "[encoded data removed]",
            "text/plain": [
              "<Figure size 432x288 with 2 Axes>"
            ]
          },
          "metadata": {
            "tags": []
          },
          "output_type": "display_data"
        }
      ],
      "source": [
        "predict = clf.predict(X_tr_vectors)\n",
        "cm = metrics.confusion_matrix(y_tr, predict)\n",
        "print(\"Confusion Matrix on Train \\n\")\n",
        "ConfusionMatrixPrint(cm)\n",
        "predict = clf.predict(X_test_vectors)\n",
        "cm = metrics.confusion_matrix(y_test, predict)\n",
        "print(\"Confusion Matrix on Test \\n\")\n",
        "ConfusionMatrixPrint(cm)"
      ]
    },
    {
      "cell_type": "code",
      "execution_count": null,
      "metadata": {
        "colab": {
          "base_uri": "https://localhost:8080/",
          "height": 330
        },
        "id": "eg3QD6JDzQ8a",
        "outputId": "41ad6d32-7456-44e2-f043-396f2669fe22"
      },
      "outputs": [
        {
          "name": "stdout",
          "output_type": "stream",
          "text": [
            "**** TEST AUC ***  0.8246424306306713\n",
            "**** TRAIN AUC *****  0.8791812575738654\n"
          ]
        },
        {
          "data": {
            "image/png": "[encoded data removed]",
            "text/plain": [
              "<Figure size 432x288 with 1 Axes>"
            ]
          },
          "metadata": {
            "tags": []
          },
          "output_type": "display_data"
        }
      ],
      "source": [
        "y_cv_predict = np.array(clf.predict_proba(X_test_vectors))\n",
        "preds = np.max(y_cv_predict,axis=1)\n",
        "fpr, tpr, threshold = metrics.roc_curve(y_test, preds)\n",
        "roc_auc = metrics.auc(fpr, tpr)\n",
        "print(\"**** TEST AUC *** \", roc_auc)\n",
        "y_tr_predict = np.array(clf.predict_proba(X_tr_vectors))\n",
        "y_tr_predict = np.max(y_tr_predict,axis=1)\n",
        "fpr_tr, tpr_tr, threshold_tr = metrics.roc_curve(y_tr, y_tr_predict)\n",
        "#calculating AUC\n",
        "auc = metrics.auc(fpr_tr, tpr_tr)\n",
        "print(\"**** TRAIN AUC ***** \", auc)\n",
        "ROCCurvePrint(fpr,tpr, fpr_tr, tpr_tr)"
      ]
    },
    {
      "cell_type": "markdown",
      "metadata": {
        "id": "L-xcoDmADYNP"
      },
      "source": [
        "### [5.1.4] Applying KNN brute force on TFIDF W2V,<font color='red'> SET 4</font>"
      ]
    },
    {
      "cell_type": "code",
      "execution_count": null,
      "metadata": {
        "collapsed": true,
        "id": "Z9tFDe5_DYNQ"
      },
      "outputs": [],
      "source": [
        "training_words = []\n",
        "for sentance in X_tr:\n",
        "    training_words.append(sentance.split())\n",
        "w2v_model=Word2Vec(training_words,min_count=5,size=50, workers=4)"
      ]
    },
    {
      "cell_type": "code",
      "execution_count": null,
      "metadata": {
        "collapsed": true,
        "id": "zjNhUliibjID"
      },
      "outputs": [],
      "source": [
        "w2v_words = list(w2v_model.wv.vocab)\n"
      ]
    },
    {
      "cell_type": "code",
      "execution_count": null,
      "metadata": {
        "collapsed": true,
        "id": "9-yN6LFrbutL"
      },
      "outputs": [],
      "source": [
        "model = TfidfVectorizer()\n",
        "tf_idf_matrix = model.fit_transform(X_tr)\n",
        "# we are converting a dictionary with word as a key, and the idf as a value\n",
        "dictionary = dict(zip(model.get_feature_names(), list(model.idf_)))\n"
      ]
    },
    {
      "cell_type": "code",
      "execution_count": null,
      "metadata": {
        "collapsed": true,
        "id": "lwS67WgZcVqI"
      },
      "outputs": [],
      "source": [
        "tfidf_feat = model.get_feature_names() # tfidf words/col-names\n"
      ]
    },
    {
      "cell_type": "code",
      "execution_count": null,
      "metadata": {
        "colab": {
          "base_uri": "https://localhost:8080/",
          "height": 34
        },
        "id": "uIb0CO5gcb9D",
        "outputId": "9ee4bd58-c9e3-4362-9d2a-6bc4fb218724"
      },
      "outputs": [
        {
          "name": "stderr",
          "output_type": "stream",
          "text": [
            "100%|██████████| 43008/43008 [19:31<00:00, 36.71it/s]\n"
          ]
        }
      ],
      "source": [
        "list_of_sentance_tr=[]\n",
        "for sentance in X_tr:\n",
        "    list_of_sentance_tr.append(sentance.split())\n",
        "\n",
        "tfidf_sent_vectors_tr = []; # the tfidf-w2v for each sentence/review is stored in this list\n",
        "row=0;\n",
        "for sent in tqdm(list_of_sentance_tr): # for each review/sentence \n",
        "    sent_vec = np.zeros(50) # as word vectors are of zero length\n",
        "    weight_sum =0; # num of words with a valid vector in the sentence/review\n",
        "    for word in sent: # for each word in a review/sentence\n",
        "        if word in w2v_words and word in tfidf_feat:\n",
        "            vec = w2v_model.wv[word]\n",
        "#             tf_idf = tf_idf_matrix[row, tfidf_feat.index(word)]\n",
        "            # to reduce the computation we are \n",
        "            # dictionary[word] = idf value of word in whole courpus\n",
        "            # sent.count(word) = tf valeus of word in this review\n",
        "            tf_idf = dictionary[word]*(sent.count(word)/len(sent))\n",
        "            sent_vec += (vec * tf_idf)\n",
        "            weight_sum += tf_idf\n",
        "    if weight_sum != 0:\n",
        "        sent_vec /= weight_sum\n",
        "    tfidf_sent_vectors_tr.append(sent_vec)\n",
        "    row += 1"
      ]
    },
    {
      "cell_type": "code",
      "execution_count": null,
      "metadata": {
        "colab": {
          "base_uri": "https://localhost:8080/",
          "height": 34
        },
        "id": "36vnhjpMdML_",
        "outputId": "92514841-1622-4c4c-c4de-db9e8c07ee7f"
      },
      "outputs": [
        {
          "name": "stderr",
          "output_type": "stream",
          "text": [
            "100%|██████████| 18433/18433 [08:13<00:00, 37.33it/s]\n"
          ]
        }
      ],
      "source": [
        "list_of_sentance_cv=[]\n",
        "for sentance in X_cv:\n",
        "    list_of_sentance_cv.append(sentance.split())\n",
        "\n",
        "tfidf_sent_vectors_cv = []; # the tfidf-w2v for each sentence/review is stored in this list\n",
        "row=0;\n",
        "for sent in tqdm(list_of_sentance_cv): # for each review/sentence \n",
        "    sent_vec = np.zeros(50) # as word vectors are of zero length\n",
        "    weight_sum =0; # num of words with a valid vector in the sentence/review\n",
        "    for word in sent: # for each word in a review/sentence\n",
        "        if word in w2v_words and word in tfidf_feat:\n",
        "            vec = w2v_model.wv[word]\n",
        "#             tf_idf = tf_idf_matrix[row, tfidf_feat.index(word)]\n",
        "            # to reduce the computation we are \n",
        "            # dictionary[word] = idf value of word in whole courpus\n",
        "            # sent.count(word) = tf valeus of word in this review\n",
        "            tf_idf = dictionary[word]*(sent.count(word)/len(sent))\n",
        "            sent_vec += (vec * tf_idf)\n",
        "            weight_sum += tf_idf\n",
        "    if weight_sum != 0:\n",
        "        sent_vec /= weight_sum\n",
        "    tfidf_sent_vectors_cv.append(sent_vec)\n",
        "    row += 1"
      ]
    },
    {
      "cell_type": "code",
      "execution_count": null,
      "metadata": {
        "colab": {
          "base_uri": "https://localhost:8080/",
          "height": 34
        },
        "id": "WFsKJ5NZdXqo",
        "outputId": "c5ecdb1f-9487-4f63-e20e-7fd455b8fd3b"
      },
      "outputs": [
        {
          "name": "stderr",
          "output_type": "stream",
          "text": [
            "100%|██████████| 26332/26332 [11:47<00:00, 37.23it/s]\n"
          ]
        }
      ],
      "source": [
        "list_of_sentance_test=[]\n",
        "for sentance in X_test:\n",
        "    list_of_sentance_test.append(sentance.split())\n",
        "\n",
        "tfidf_sent_vectors_test = []; # the tfidf-w2v for each sentence/review is stored in this list\n",
        "row=0;\n",
        "for sent in tqdm(list_of_sentance_test): # for each review/sentence \n",
        "    sent_vec = np.zeros(50) # as word vectors are of zero length\n",
        "    weight_sum =0; # num of words with a valid vector in the sentence/review\n",
        "    for word in sent: # for each word in a review/sentence\n",
        "        if word in w2v_words and word in tfidf_feat:\n",
        "            vec = w2v_model.wv[word]\n",
        "#             tf_idf = tf_idf_matrix[row, tfidf_feat.index(word)]\n",
        "            # to reduce the computation we are \n",
        "            # dictionary[word] = idf value of word in whole courpus\n",
        "            # sent.count(word) = tf valeus of word in this review\n",
        "            tf_idf = dictionary[word]*(sent.count(word)/len(sent))\n",
        "            sent_vec += (vec * tf_idf)\n",
        "            weight_sum += tf_idf\n",
        "    if weight_sum != 0:\n",
        "        sent_vec /= weight_sum\n",
        "    tfidf_sent_vectors_test.append(sent_vec)\n",
        "    row += 1"
      ]
    },
    {
      "cell_type": "code",
      "execution_count": null,
      "metadata": {
        "colab": {
          "base_uri": "https://localhost:8080/",
          "height": 52
        },
        "id": "sDLFGq8Od6qw",
        "outputId": "29feb2ee-30b8-41b8-c965-fdc1f69e54b5"
      },
      "outputs": [
        {
          "name": "stdout",
          "output_type": "stream",
          "text": [
            "Ranges of values from where we search for great penalty\n",
            " [3, 5, 7, 9, 11, 13, 15]\n"
          ]
        }
      ],
      "source": [
        "cv_auc = []\n",
        "train_auc = []\n",
        "iterator = []\n",
        "END = 16\n",
        "start = 3\n",
        "while start < END:\n",
        "  clf = KNeighborsClassifier(n_neighbors = start)\n",
        "  clf.fit(tfidf_sent_vectors_tr,y_tr)\n",
        "  y_cv_predict = np.array(clf.predict_proba(tfidf_sent_vectors_cv))\n",
        "  preds = np.max(y_cv_predict,axis=1)\n",
        "  fpr, tpr, threshold = metrics.roc_curve(y_cv, preds)\n",
        "  cvAUC = metrics.auc(fpr, tpr)\n",
        "  y_tr_predict = np.array(clf.predict_proba(tfidf_sent_vectors_tr))\n",
        "  y_tr_predict = np.max(y_tr_predict,axis=1)\n",
        "  fpr_tr, tpr_tr, threshold_tr = metrics.roc_curve(y_tr, y_tr_predict)\n",
        "  trainAUC = metrics.auc(fpr_tr, tpr_tr)\n",
        "  cv_auc.append(cvAUC)\n",
        "  train_auc.append(trainAUC)\n",
        "  iterator.append(start)\n",
        "  start += 2\n",
        "  \n",
        "print(\"Ranges of values from where we search for great penalty\\n\",iterator)\n"
      ]
    },
    {
      "cell_type": "code",
      "execution_count": null,
      "metadata": {
        "colab": {
          "base_uri": "https://localhost:8080/",
          "height": 283
        },
        "id": "7dfhyVlpd_lp",
        "outputId": "fdbba908-cde3-4887-e1dc-2e2f566ee041"
      },
      "outputs": [
        {
          "data": {
            "image/png": "[encoded data removed]",
            "text/plain": [
              "<Figure size 432x288 with 1 Axes>"
            ]
          },
          "metadata": {
            "tags": []
          },
          "output_type": "display_data"
        }
      ],
      "source": [
        "#plotting the graph \n",
        "plt.plot(iterator, cv_auc, linewidth=2)\n",
        "plt.plot(iterator, train_auc, linewidth=2)\n",
        "plt.axis('tight')\n",
        "plt.grid()\n",
        "plt.xlabel('Hyper parameter values')\n",
        "plt.ylabel('AUC')\n",
        "plt.legend(['Cross validation AUC', 'Train AUC'], loc='upper right')\n",
        "plt.show()"
      ]
    },
    {
      "cell_type": "markdown",
      "metadata": {
        "id": "XMLed9eJglWw"
      },
      "source": [
        "#### Optimal Hyperparameter is k = 8"
      ]
    },
    {
      "cell_type": "code",
      "execution_count": null,
      "metadata": {
        "colab": {
          "base_uri": "https://localhost:8080/",
          "height": 955
        },
        "id": "ASrTLjEAeFxJ",
        "outputId": "8e219319-1457-4868-fb2e-1eb7252c8799"
      },
      "outputs": [
        {
          "name": "stdout",
          "output_type": "stream",
          "text": [
            "Confusion Matrix on Train \n",
            "\n"
          ]
        },
        {
          "data": {
            "image/png": "[encoded data removed]",
            "text/plain": [
              "<Figure size 432x288 with 2 Axes>"
            ]
          },
          "metadata": {
            "tags": []
          },
          "output_type": "display_data"
        },
        {
          "name": "stdout",
          "output_type": "stream",
          "text": [
            "Confusion Matrix on Test \n",
            "\n"
          ]
        },
        {
          "data": {
            "image/png": "[encoded data removed]",
            "text/plain": [
              "<Figure size 432x288 with 2 Axes>"
            ]
          },
          "metadata": {
            "tags": []
          },
          "output_type": "display_data"
        },
        {
          "name": "stdout",
          "output_type": "stream",
          "text": [
            "**** TEST AUC ***  0.7641608519338016\n",
            "**** TRAIN AUC *****  0.861913314122846\n"
          ]
        },
        {
          "data": {
            "image/png": "[encoded data removed]",
            "text/plain": [
              "<Figure size 432x288 with 1 Axes>"
            ]
          },
          "metadata": {
            "tags": []
          },
          "output_type": "display_data"
        }
      ],
      "source": [
        "clf = KNeighborsClassifier(n_neighbors = 8 )\n",
        "clf.fit(tfidf_sent_vectors_tr, y_tr)\n",
        "predict = clf.predict(tfidf_sent_vectors_tr)\n",
        "cm = metrics.confusion_matrix(y_tr, predict)\n",
        "print(\"Confusion Matrix on Train \\n\")\n",
        "ConfusionMatrixPrint(cm)\n",
        "predict = clf.predict(tfidf_sent_vectors_test)\n",
        "cm = metrics.confusion_matrix(y_test, predict)\n",
        "print(\"Confusion Matrix on Test \\n\")\n",
        "ConfusionMatrixPrint(cm)\n",
        "\n",
        "\n",
        "y_cv_predict = np.array(clf.predict_proba(tfidf_sent_vectors_test))\n",
        "preds = np.max(y_cv_predict,axis=1)\n",
        "fpr, tpr, threshold = metrics.roc_curve(y_test, preds)\n",
        "roc_auc = metrics.auc(fpr, tpr)\n",
        "print(\"**** TEST AUC *** \", roc_auc)\n",
        "y_tr_predict = np.array(clf.predict_proba(tfidf_sent_vectors_tr))\n",
        "y_tr_predict = np.max(y_tr_predict,axis=1)\n",
        "fpr_tr, tpr_tr, threshold_tr = metrics.roc_curve(y_tr, y_tr_predict)\n",
        "#calculating AUC\n",
        "auc = metrics.auc(fpr_tr, tpr_tr)\n",
        "print(\"**** TRAIN AUC ***** \", auc)\n",
        "ROCCurvePrint(fpr,tpr, fpr_tr, tpr_tr)"
      ]
    },
    {
      "cell_type": "markdown",
      "metadata": {
        "id": "v2x7vWX-DYNT"
      },
      "source": [
        "##<font color='green'><b>Applying KNN kd-tree"
      ]
    },
    {
      "cell_type": "code",
      "execution_count": null,
      "metadata": {
        "colab": {
          "base_uri": "https://localhost:8080/",
          "height": 104
        },
        "id": "1mpuL5BoNHqc",
        "outputId": "87a054f9-56d9-4c40-b072-e4553a01a8b6"
      },
      "outputs": [
        {
          "name": "stdout",
          "output_type": "stream",
          "text": [
            "20000\n",
            "20000\n",
            "1    16962\n",
            "0     3038\n",
            "Name: Score, dtype: int64\n"
          ]
        }
      ],
      "source": [
        "X = preprocessed_reviews[:20000]\n",
        "y = final['Score']\n",
        "y = y[:20000]\n",
        "print(len(X))\n",
        "print(len(y))\n",
        "print(y.value_counts())\n",
        "# Random Splitting of data using train_test_split\n",
        "X_1, X_test, y_1, y_test = train_test_split(X, y, test_size=0.3, random_state=0)\n",
        "X_tr, X_cv, y_tr, y_cv = train_test_split(X_1, y_1, test_size=0.3)"
      ]
    },
    {
      "cell_type": "markdown",
      "metadata": {
        "id": "jfY8wT02DYNU"
      },
      "source": [
        "### [5.2.1] Applying KNN kd-tree on BOW,<font color='red'> SET 5</font>"
      ]
    },
    {
      "cell_type": "code",
      "execution_count": null,
      "metadata": {
        "colab": {
          "base_uri": "https://localhost:8080/",
          "height": 52
        },
        "id": "kiIQYuA2DYNV",
        "outputId": "bbb2bc13-3e08-4bcb-cf42-7dd034a95e5f"
      },
      "outputs": [
        {
          "name": "stdout",
          "output_type": "stream",
          "text": [
            "Ranges of values from where we search for great penalty\n",
            " [1, 3, 5, 7, 9, 11, 13, 15]\n"
          ]
        }
      ],
      "source": [
        "cv_auc = []\n",
        "train_auc = []\n",
        "iterator = []\n",
        "END = 16\n",
        "start = 1\n",
        "while start < END:\n",
        "  clf = KNeighborsClassifier(n_neighbors = start, algorithm = 'kd_tree')\n",
        "  vectorizer =  CountVectorizer(min_df=10, max_features=500)\n",
        "  vectorizer.fit(X_tr)\n",
        "  X_tr_bow = vectorizer.transform(X_tr)\n",
        "  X_tr_bow = X_tr_bow.todense()\n",
        "  clf.fit(X_tr_bow,y_tr)\n",
        "  X_cv_bow = vectorizer.transform(X_cv)\n",
        "  X_cv_bow = X_cv_bow.todense()\n",
        "  y_cv_predict = np.array(clf.predict_proba(X_cv_bow))\n",
        "  preds = np.max(y_cv_predict,axis=1)\n",
        "  fpr, tpr, threshold = metrics.roc_curve(y_cv, preds)\n",
        "  cvAUC = metrics.auc(fpr, tpr)\n",
        "  y_tr_predict = np.array(clf.predict_proba(X_tr_bow))\n",
        "  y_tr_predict = np.max(y_tr_predict,axis=1)\n",
        "  fpr_tr, tpr_tr, threshold_tr = metrics.roc_curve(y_tr, y_tr_predict)\n",
        "  trainAUC = metrics.auc(fpr_tr, tpr_tr)\n",
        "  cv_auc.append(cvAUC)\n",
        "  train_auc.append(trainAUC)\n",
        "  iterator.append(start)\n",
        "  start += 2\n",
        "  \n",
        "print(\"Ranges of values from where we search for great penalty\\n\",iterator)\n",
        "\n"
      ]
    },
    {
      "cell_type": "code",
      "execution_count": null,
      "metadata": {
        "colab": {
          "base_uri": "https://localhost:8080/",
          "height": 283
        },
        "id": "EIGCFpeYjTjc",
        "outputId": "f754780a-44e6-4abd-a895-8895f2a7c13d"
      },
      "outputs": [
        {
          "data": {
            "image/png": "[encoded data removed]",
            "text/plain": [
              "<Figure size 432x288 with 1 Axes>"
            ]
          },
          "metadata": {
            "tags": []
          },
          "output_type": "display_data"
        }
      ],
      "source": [
        "#plotting the graph \n",
        "plt.plot(iterator, cv_auc, linewidth=2)\n",
        "plt.plot(iterator, train_auc, linewidth=2)\n",
        "plt.axis('tight')\n",
        "plt.grid()\n",
        "plt.xlabel('Hyper parameter values')\n",
        "plt.ylabel('AUC')\n",
        "plt.legend(['Cross validation AUC', 'Train AUC'], loc='upper right')\n",
        "plt.show()"
      ]
    },
    {
      "cell_type": "markdown",
      "metadata": {
        "id": "6F43zXjtjg-h"
      },
      "source": [
        "#### optimal hyperparameter value is k = 9"
      ]
    },
    {
      "cell_type": "code",
      "execution_count": null,
      "metadata": {
        "colab": {
          "base_uri": "https://localhost:8080/",
          "height": 69
        },
        "id": "jOcalNYlkqqq",
        "outputId": "083c6c7a-46cc-41cd-f4ad-dc9fba8a025b"
      },
      "outputs": [
        {
          "data": {
            "text/plain": [
              "KNeighborsClassifier(algorithm='kd_tree', leaf_size=30, metric='minkowski',\n",
              "           metric_params=None, n_jobs=None, n_neighbors=9, p=2,\n",
              "           weights='uniform')"
            ]
          },
          "execution_count": 78,
          "metadata": {
            "tags": []
          },
          "output_type": "execute_result"
        }
      ],
      "source": [
        "clf = KNeighborsClassifier(n_neighbors = 9, algorithm = 'kd_tree' )\n",
        "vectorizer =  CountVectorizer(min_df=10, max_features=500)\n",
        "vectorizer.fit(X_tr)\n",
        "X_tr_bow = vectorizer.transform(X_tr)\n",
        "X_tr_bow = X_tr_bow.todense()\n",
        "clf.fit(X_tr_bow, y_tr)"
      ]
    },
    {
      "cell_type": "code",
      "execution_count": null,
      "metadata": {
        "colab": {
          "base_uri": "https://localhost:8080/",
          "height": 642
        },
        "id": "zPUgflgF_LZO",
        "outputId": "321c9613-2cb5-4f4a-fad7-2081adc0e401"
      },
      "outputs": [
        {
          "name": "stdout",
          "output_type": "stream",
          "text": [
            "Confusion Matrix on Train \n",
            "\n"
          ]
        },
        {
          "data": {
            "image/png": "[encoded data removed]",
            "text/plain": [
              "<Figure size 432x288 with 2 Axes>"
            ]
          },
          "metadata": {
            "tags": []
          },
          "output_type": "display_data"
        },
        {
          "name": "stdout",
          "output_type": "stream",
          "text": [
            "Confusion Matrix on Test \n",
            "\n"
          ]
        },
        {
          "data": {
            "image/png": "[encoded data removed]",
            "text/plain": [
              "<Figure size 432x288 with 2 Axes>"
            ]
          },
          "metadata": {
            "tags": []
          },
          "output_type": "display_data"
        }
      ],
      "source": [
        "predict = clf.predict(X_tr_bow)\n",
        "cm = metrics.confusion_matrix(y_tr, predict)\n",
        "print(\"Confusion Matrix on Train \\n\")\n",
        "ConfusionMatrixPrint(cm)\n",
        "test_dtm = vectorizer.transform(X_test)\n",
        "test_dtm = test_dtm.todense()\n",
        "predict = clf.predict(test_dtm)\n",
        "cm = metrics.confusion_matrix(y_test, predict)\n",
        "print(\"Confusion Matrix on Test \\n\")\n",
        "ConfusionMatrixPrint(cm)"
      ]
    },
    {
      "cell_type": "code",
      "execution_count": null,
      "metadata": {
        "colab": {
          "base_uri": "https://localhost:8080/",
          "height": 52
        },
        "id": "2v6FYVZK_LZ1",
        "outputId": "e6686be6-2311-4e39-b1c0-9347eedf32a8"
      },
      "outputs": [
        {
          "name": "stdout",
          "output_type": "stream",
          "text": [
            "**** TEST AUC ***  0.7039440973394874\n",
            "**** TRAIN AUC *****  0.8087556278324712\n"
          ]
        }
      ],
      "source": [
        "y_cv_predict = np.array(clf.predict_proba(test_dtm))\n",
        "preds = np.max(y_cv_predict,axis=1)\n",
        "fpr, tpr, threshold = metrics.roc_curve(y_test, preds)\n",
        "roc_auc = metrics.auc(fpr, tpr)\n",
        "print(\"**** TEST AUC *** \", roc_auc)\n",
        "y_tr_predict = np.array(clf.predict_proba(X_tr_bow))\n",
        "y_tr_predict = np.max(y_tr_predict,axis=1)\n",
        "fpr_tr, tpr_tr, threshold_tr = metrics.roc_curve(y_tr, y_tr_predict)\n",
        "#calculating AUC\n",
        "auc = metrics.auc(fpr_tr, tpr_tr)\n",
        "print(\"**** TRAIN AUC ***** \", auc)\n"
      ]
    },
    {
      "cell_type": "code",
      "execution_count": null,
      "metadata": {
        "colab": {
          "base_uri": "https://localhost:8080/",
          "height": 295
        },
        "id": "IId12owdYLyK",
        "outputId": "4c9aa8dc-d530-448a-91f9-d591b62d736b"
      },
      "outputs": [
        {
          "data": {
            "image/png": "[encoded data removed]",
            "text/plain": [
              "<Figure size 432x288 with 1 Axes>"
            ]
          },
          "metadata": {
            "tags": []
          },
          "output_type": "display_data"
        }
      ],
      "source": [
        "ROCCurvePrint(fpr,tpr, fpr_tr, tpr_tr)"
      ]
    },
    {
      "cell_type": "markdown",
      "metadata": {
        "id": "kG-xYnK7DYNt"
      },
      "source": [
        "### [5.2.2] Applying KNN kd-tree on TFIDF,<font color='red'> SET 6</font>"
      ]
    },
    {
      "cell_type": "code",
      "execution_count": null,
      "metadata": {
        "colab": {
          "base_uri": "https://localhost:8080/",
          "height": 52
        },
        "id": "ffjRVz_iDYNu",
        "outputId": "ac5138cb-da7b-4ced-b968-69c7f6e4d178"
      },
      "outputs": [
        {
          "name": "stdout",
          "output_type": "stream",
          "text": [
            "Ranges of values from where we search for great penalty\n",
            " [3, 5, 7, 9, 11, 13, 15]\n"
          ]
        }
      ],
      "source": [
        "cv_auc = []\n",
        "train_auc = []\n",
        "iterator = []\n",
        "END = 16\n",
        "start = 3\n",
        "while start < END:\n",
        "  clf = KNeighborsClassifier(n_neighbors = start, algorithm = 'kd_tree')\n",
        "  vectorizer =  TfidfVectorizer(min_df=10, max_features=500)\n",
        "  vectorizer.fit(X_tr)\n",
        "  X_tr_bow = vectorizer.transform(X_tr)\n",
        "  X_tr_bow = X_tr_bow.todense()\n",
        "  clf.fit(X_tr_bow,y_tr)\n",
        "  X_cv_bow = vectorizer.transform(X_cv)\n",
        "  X_cv_bow = X_cv_bow.todense()\n",
        "  y_cv_predict = np.array(clf.predict_proba(X_cv_bow))\n",
        "  preds = np.max(y_cv_predict,axis=1)\n",
        "  fpr, tpr, threshold = metrics.roc_curve(y_cv, preds)\n",
        "  cvAUC = metrics.auc(fpr, tpr)\n",
        "  y_tr_predict = np.array(clf.predict_proba(X_tr_bow))\n",
        "  y_tr_predict = np.max(y_tr_predict,axis=1)\n",
        "  fpr_tr, tpr_tr, threshold_tr = metrics.roc_curve(y_tr, y_tr_predict)\n",
        "  trainAUC = metrics.auc(fpr_tr, tpr_tr)\n",
        "  cv_auc.append(cvAUC)\n",
        "  train_auc.append(trainAUC)\n",
        "  iterator.append(start)\n",
        "  start += 2\n",
        "  \n",
        "print(\"Ranges of values from where we search for great penalty\\n\",iterator)"
      ]
    },
    {
      "cell_type": "code",
      "execution_count": null,
      "metadata": {
        "colab": {
          "base_uri": "https://localhost:8080/",
          "height": 283
        },
        "id": "V97odIPjjMHa",
        "outputId": "bef99840-e381-4024-e62d-edf7672f18fe"
      },
      "outputs": [
        {
          "data": {
            "image/png": "[encoded data removed]",
            "text/plain": [
              "<Figure size 432x288 with 1 Axes>"
            ]
          },
          "metadata": {
            "tags": []
          },
          "output_type": "display_data"
        }
      ],
      "source": [
        "#plotting the graph \n",
        "plt.plot(iterator, cv_auc, linewidth=2)\n",
        "plt.plot(iterator, train_auc, linewidth=2)\n",
        "plt.axis('tight')\n",
        "plt.grid()\n",
        "plt.xlabel('Hyper parameter values')\n",
        "plt.ylabel('AUC')\n",
        "plt.legend(['Cross validation AUC', 'Train AUC'], loc='upper right')\n",
        "plt.show()"
      ]
    },
    {
      "cell_type": "markdown",
      "metadata": {
        "id": "qrEnTovumixn"
      },
      "source": [
        "#### Building Model on optimal hyperparameter k=11"
      ]
    },
    {
      "cell_type": "code",
      "execution_count": null,
      "metadata": {
        "colab": {
          "base_uri": "https://localhost:8080/",
          "height": 69
        },
        "id": "XfSw3hChmpaY",
        "outputId": "56db8495-b462-4ca2-b429-87cbd96fc291"
      },
      "outputs": [
        {
          "data": {
            "text/plain": [
              "KNeighborsClassifier(algorithm='kd_tree', leaf_size=30, metric='minkowski',\n",
              "           metric_params=None, n_jobs=None, n_neighbors=11, p=2,\n",
              "           weights='uniform')"
            ]
          },
          "execution_count": 84,
          "metadata": {
            "tags": []
          },
          "output_type": "execute_result"
        }
      ],
      "source": [
        "clf = KNeighborsClassifier(n_neighbors = 11 ,algorithm = 'kd_tree')\n",
        "vectorizer =  TfidfVectorizer(min_df=10, max_features=500)\n",
        "vectorizer.fit(X_tr)\n",
        "X_tr_bow = vectorizer.transform(X_tr)\n",
        "X_tr_bow = X_tr_bow.todense()\n",
        "clf.fit(X_tr_bow, y_tr)"
      ]
    },
    {
      "cell_type": "code",
      "execution_count": null,
      "metadata": {
        "colab": {
          "base_uri": "https://localhost:8080/",
          "height": 642
        },
        "id": "YQhFy0ZDmvHL",
        "outputId": "0d526ea4-6641-4e8b-a2ec-3710705140da"
      },
      "outputs": [
        {
          "name": "stdout",
          "output_type": "stream",
          "text": [
            "Confusion Matrix on Train \n",
            "\n"
          ]
        },
        {
          "data": {
            "image/png": "[encoded data removed]",
            "text/plain": [
              "<Figure size 432x288 with 2 Axes>"
            ]
          },
          "metadata": {
            "tags": []
          },
          "output_type": "display_data"
        },
        {
          "name": "stdout",
          "output_type": "stream",
          "text": [
            "Confusion Matrix on Test \n",
            "\n"
          ]
        },
        {
          "data": {
            "image/png": "[encoded data removed]",
            "text/plain": [
              "<Figure size 432x288 with 2 Axes>"
            ]
          },
          "metadata": {
            "tags": []
          },
          "output_type": "display_data"
        }
      ],
      "source": [
        "predict = clf.predict(X_tr_bow)\n",
        "cm = metrics.confusion_matrix(y_tr, predict)\n",
        "print(\"Confusion Matrix on Train \\n\")\n",
        "ConfusionMatrixPrint(cm)\n",
        "test_dtm = vectorizer.transform(X_test)\n",
        "test_dtm = test_dtm.todense()\n",
        "predict = clf.predict(test_dtm)\n",
        "cm = metrics.confusion_matrix(y_test, predict)\n",
        "print(\"Confusion Matrix on Test \\n\")\n",
        "ConfusionMatrixPrint(cm)"
      ]
    },
    {
      "cell_type": "code",
      "execution_count": null,
      "metadata": {
        "colab": {
          "base_uri": "https://localhost:8080/",
          "height": 330
        },
        "id": "9y4IRo16mvlo",
        "outputId": "7f182541-5926-4a25-ba52-afe3cad26d0e"
      },
      "outputs": [
        {
          "name": "stdout",
          "output_type": "stream",
          "text": [
            "**** TEST AUC ***  0.5675547692391664\n",
            "**** TRAIN AUC *****  0.8941475382750692\n"
          ]
        },
        {
          "data": {
            "image/png": "[encoded data removed]",
            "text/plain": [
              "<Figure size 432x288 with 1 Axes>"
            ]
          },
          "metadata": {
            "tags": []
          },
          "output_type": "display_data"
        }
      ],
      "source": [
        "y_cv_predict = np.array(clf.predict_proba(test_dtm))\n",
        "preds = np.max(y_cv_predict,axis=1)\n",
        "fpr, tpr, threshold = metrics.roc_curve(y_test, preds)\n",
        "roc_auc = metrics.auc(fpr, tpr)\n",
        "print(\"**** TEST AUC *** \", roc_auc)\n",
        "y_tr_predict = np.array(clf.predict_proba(X_tr_bow))\n",
        "y_tr_predict = np.max(y_tr_predict,axis=1)\n",
        "fpr_tr, tpr_tr, threshold_tr = metrics.roc_curve(y_tr, y_tr_predict)\n",
        "#calculating AUC\n",
        "auc = metrics.auc(fpr_tr, tpr_tr)\n",
        "print(\"**** TRAIN AUC ***** \", auc)\n",
        "ROCCurvePrint(fpr,tpr, fpr_tr, tpr_tr)"
      ]
    },
    {
      "cell_type": "markdown",
      "metadata": {
        "id": "ddU0dZI0DYNx"
      },
      "source": [
        "### [5.2.3] Applying KNN kd-tree on AVG W2V,<font color='red'> SET 3</font>"
      ]
    },
    {
      "cell_type": "markdown",
      "metadata": {
        "id": "72bsXjSfMKpM"
      },
      "source": [
        "#### Building our own word2vec"
      ]
    },
    {
      "cell_type": "code",
      "execution_count": null,
      "metadata": {
        "collapsed": true,
        "id": "YAl6PXWcDYNy"
      },
      "outputs": [],
      "source": [
        "training_words = []\n",
        "for sentance in X_tr:\n",
        "    training_words.append(sentance.split())\n",
        "w2v_model=Word2Vec(training_words,min_count=5,size=50, workers=4)"
      ]
    },
    {
      "cell_type": "code",
      "execution_count": null,
      "metadata": {
        "collapsed": true,
        "id": "r-JF1wMdMcJ9"
      },
      "outputs": [],
      "source": [
        "w2v_words = list(w2v_model.wv.vocab)\n",
        "X_tr_vectors = []; # the avg-w2v for each sentence/review is stored in this list\n",
        "# print(w2v_model.wv.vocab)\n",
        "for sent in (training_words): # for each review/sentence\n",
        "    sent_vec = np.zeros(50) # as word vectors are of zero length 50, you might need to change this to 300 if you use google's w2v\n",
        "    cnt_words =0; # num of words with a valid vector in the sentence/review\n",
        "    for word in sent: # for each word in a review/sentence\n",
        "        if word in w2v_words:\n",
        "            vec = w2v_model.wv[word]\n",
        "            sent_vec += vec\n",
        "            cnt_words += 1\n",
        "    if cnt_words != 0:\n",
        "        sent_vec /= cnt_words\n",
        "    X_tr_vectors.append(sent_vec)\n"
      ]
    },
    {
      "cell_type": "code",
      "execution_count": null,
      "metadata": {
        "collapsed": true,
        "id": "LpaWfDFIMcSs"
      },
      "outputs": [],
      "source": [
        "cv_words = []\n",
        "for sentance in X_cv:\n",
        "    cv_words.append(sentance.split())\n",
        "\n",
        "X_cv_vectors = []; # the avg-w2v for each sentence/review is stored in this list\n",
        "# print(w2v_model.wv.vocab)\n",
        "for sent in cv_words: # for each review/sentence\n",
        "    sent_vec = np.zeros(50) # as word vectors are of zero length 50, you might need to change this to 300 if you use google's w2v\n",
        "    cnt_words =0; # num of words with a valid vector in the sentence/review\n",
        "    for word in sent: # for each word in a review/sentence\n",
        "        if word in w2v_words:\n",
        "            vec = w2v_model.wv[word]\n",
        "            sent_vec += vec\n",
        "            cnt_words += 1\n",
        "    if cnt_words != 0:\n",
        "        sent_vec /= cnt_words\n",
        "    X_cv_vectors.append(sent_vec)\n",
        "\n"
      ]
    },
    {
      "cell_type": "code",
      "execution_count": null,
      "metadata": {
        "collapsed": true,
        "id": "zSjkhS7DMcvm"
      },
      "outputs": [],
      "source": [
        "test_words = []\n",
        "for sentance in X_test:\n",
        "    test_words.append(sentance.split())\n",
        "\n",
        "X_test_vectors = []; # the avg-w2v for each sentence/review is stored in this list\n",
        "# print(w2v_model.wv.vocab)\n",
        "for sent in test_words: # for each review/sentence\n",
        "    sent_vec = np.zeros(50) # as word vectors are of zero length 50, you might need to change this to 300 if you use google's w2v\n",
        "    cnt_words =0; # num of words with a valid vector in the sentence/review\n",
        "    for word in sent: # for each word in a review/sentence\n",
        "        if word in w2v_words:\n",
        "            vec = w2v_model.wv[word]\n",
        "            sent_vec += vec\n",
        "            cnt_words += 1\n",
        "    if cnt_words != 0:\n",
        "        sent_vec /= cnt_words\n",
        "    X_test_vectors.append(sent_vec)\n"
      ]
    },
    {
      "cell_type": "code",
      "execution_count": null,
      "metadata": {
        "colab": {
          "base_uri": "https://localhost:8080/",
          "height": 52
        },
        "id": "TYzkzuYDNERw",
        "outputId": "a0262dd9-bd33-4202-bfa9-c1b3760075e2"
      },
      "outputs": [
        {
          "name": "stdout",
          "output_type": "stream",
          "text": [
            "Ranges of values from where we search for great penalty\n",
            " [1, 3, 5, 7, 9, 11, 13]\n"
          ]
        }
      ],
      "source": [
        "cv_auc = []\n",
        "train_auc = []\n",
        "iterator = []\n",
        "END = 15\n",
        "start = 1\n",
        "while start < END:\n",
        "  clf = KNeighborsClassifier(n_neighbors = start,algorithm = 'kd_tree')\n",
        "  clf.fit(X_tr_vectors,y_tr)\n",
        "  y_cv_predict = np.array(clf.predict_proba(X_cv_vectors))\n",
        "  preds = np.max(y_cv_predict,axis=1)\n",
        "  fpr, tpr, threshold = metrics.roc_curve(y_cv, preds)\n",
        "  cvAUC = metrics.auc(fpr, tpr)\n",
        "  y_tr_predict = np.array(clf.predict_proba(X_tr_vectors))\n",
        "  y_tr_predict = np.max(y_tr_predict,axis=1)\n",
        "  fpr_tr, tpr_tr, threshold_tr = metrics.roc_curve(y_tr, y_tr_predict)\n",
        "  trainAUC = metrics.auc(fpr_tr, tpr_tr)\n",
        "  cv_auc.append(cvAUC)\n",
        "  train_auc.append(trainAUC)\n",
        "  iterator.append(start)\n",
        "  start += 2\n",
        "  \n",
        "print(\"Ranges of values from where we search for great penalty\\n\",iterator)\n"
      ]
    },
    {
      "cell_type": "code",
      "execution_count": null,
      "metadata": {
        "colab": {
          "base_uri": "https://localhost:8080/",
          "height": 283
        },
        "id": "llz9gvycNbC9",
        "outputId": "49c26338-0205-43b1-d38a-8c0702f3de02"
      },
      "outputs": [
        {
          "data": {
            "image/png": "[encoded data removed]",
            "text/plain": [
              "<Figure size 432x288 with 1 Axes>"
            ]
          },
          "metadata": {
            "tags": []
          },
          "output_type": "display_data"
        }
      ],
      "source": [
        "#plotting the graph \n",
        "plt.plot(iterator, cv_auc, linewidth=2)\n",
        "plt.plot(iterator, train_auc, linewidth=2)\n",
        "plt.axis('tight')\n",
        "plt.grid()\n",
        "plt.xlabel('Hyper parameter values')\n",
        "plt.ylabel('AUC')\n",
        "plt.legend(['Cross validation AUC', 'Train AUC'], loc='upper right')\n",
        "plt.show()"
      ]
    },
    {
      "cell_type": "code",
      "execution_count": null,
      "metadata": {
        "collapsed": true,
        "id": "GVbF9_f5Y9ML"
      },
      "outputs": [],
      "source": [
        ""
      ]
    },
    {
      "cell_type": "markdown",
      "metadata": {
        "id": "w3ELpuIQ0Orj"
      },
      "source": [
        "#### hyperparameter value k = 11"
      ]
    },
    {
      "cell_type": "code",
      "execution_count": null,
      "metadata": {
        "colab": {
          "base_uri": "https://localhost:8080/",
          "height": 69
        },
        "id": "IpxL9xZFY9ZB",
        "outputId": "1f0add34-7d28-4b72-f502-540bc908426b"
      },
      "outputs": [
        {
          "data": {
            "text/plain": [
              "KNeighborsClassifier(algorithm='kd_tree', leaf_size=30, metric='minkowski',\n",
              "           metric_params=None, n_jobs=None, n_neighbors=11, p=2,\n",
              "           weights='uniform')"
            ]
          },
          "execution_count": 93,
          "metadata": {
            "tags": []
          },
          "output_type": "execute_result"
        }
      ],
      "source": [
        "clf = KNeighborsClassifier(n_neighbors = 11 , algorithm  = 'kd_tree')\n",
        "clf.fit(X_tr_vectors, y_tr)\n"
      ]
    },
    {
      "cell_type": "code",
      "execution_count": null,
      "metadata": {
        "colab": {
          "base_uri": "https://localhost:8080/",
          "height": 955
        },
        "id": "hNI9OT8dY9nh",
        "outputId": "9dabbb55-e113-481a-aeda-096a76cc8421"
      },
      "outputs": [
        {
          "name": "stdout",
          "output_type": "stream",
          "text": [
            "Confusion Matrix on Train \n",
            "\n"
          ]
        },
        {
          "data": {
            "image/png": "[encoded data removed]",
            "text/plain": [
              "<Figure size 432x288 with 2 Axes>"
            ]
          },
          "metadata": {
            "tags": []
          },
          "output_type": "display_data"
        },
        {
          "name": "stdout",
          "output_type": "stream",
          "text": [
            "Confusion Matrix on Test \n",
            "\n"
          ]
        },
        {
          "data": {
            "image/png": "[encoded data removed]",
            "text/plain": [
              "<Figure size 432x288 with 2 Axes>"
            ]
          },
          "metadata": {
            "tags": []
          },
          "output_type": "display_data"
        },
        {
          "name": "stdout",
          "output_type": "stream",
          "text": [
            "**** TEST AUC ***  0.7391401775267024\n",
            "**** TRAIN AUC *****  0.8333791697269082\n"
          ]
        },
        {
          "data": {
            "image/png": "[encoded data removed]",
            "text/plain": [
              "<Figure size 432x288 with 1 Axes>"
            ]
          },
          "metadata": {
            "tags": []
          },
          "output_type": "display_data"
        }
      ],
      "source": [
        "predict = clf.predict(X_tr_vectors)\n",
        "cm = metrics.confusion_matrix(y_tr, predict)\n",
        "print(\"Confusion Matrix on Train \\n\")\n",
        "ConfusionMatrixPrint(cm)\n",
        "predict = clf.predict(X_test_vectors)\n",
        "cm = metrics.confusion_matrix(y_test, predict)\n",
        "print(\"Confusion Matrix on Test \\n\")\n",
        "ConfusionMatrixPrint(cm)\n",
        "\n",
        "\n",
        "y_cv_predict = np.array(clf.predict_proba(X_test_vectors))\n",
        "preds = np.max(y_cv_predict,axis=1)\n",
        "fpr, tpr, threshold = metrics.roc_curve(y_test, preds)\n",
        "roc_auc = metrics.auc(fpr, tpr)\n",
        "print(\"**** TEST AUC *** \", roc_auc)\n",
        "y_tr_predict = np.array(clf.predict_proba(X_tr_vectors))\n",
        "y_tr_predict = np.max(y_tr_predict,axis=1)\n",
        "fpr_tr, tpr_tr, threshold_tr = metrics.roc_curve(y_tr, y_tr_predict)\n",
        "#calculating AUC\n",
        "auc = metrics.auc(fpr_tr, tpr_tr)\n",
        "print(\"**** TRAIN AUC ***** \", auc)\n",
        "ROCCurvePrint(fpr,tpr, fpr_tr, tpr_tr)"
      ]
    },
    {
      "cell_type": "markdown",
      "metadata": {
        "id": "IQUILTzFDYN0"
      },
      "source": [
        "### [5.2.4] Applying KNN kd-tree on TFIDF W2V,<font color='red'> SET 4</font>"
      ]
    },
    {
      "cell_type": "code",
      "execution_count": null,
      "metadata": {
        "collapsed": true,
        "id": "-GbtxRA01xx2"
      },
      "outputs": [],
      "source": [
        "training_words = []\n",
        "for sentance in X_tr:\n",
        "    training_words.append(sentance.split())\n",
        "w2v_model=Word2Vec(training_words,min_count=5,size=50, workers=4)"
      ]
    },
    {
      "cell_type": "code",
      "execution_count": null,
      "metadata": {
        "collapsed": true,
        "id": "eA0ACklY1xyW"
      },
      "outputs": [],
      "source": [
        "w2v_words = list(w2v_model.wv.vocab)\n"
      ]
    },
    {
      "cell_type": "code",
      "execution_count": null,
      "metadata": {
        "collapsed": true,
        "id": "EhnhbXQz1xyk"
      },
      "outputs": [],
      "source": [
        "model = TfidfVectorizer()\n",
        "tf_idf_matrix = model.fit_transform(X_tr)\n",
        "# we are converting a dictionary with word as a key, and the idf as a value\n",
        "dictionary = dict(zip(model.get_feature_names(), list(model.idf_)))\n"
      ]
    },
    {
      "cell_type": "code",
      "execution_count": null,
      "metadata": {
        "collapsed": true,
        "id": "ivkGL_OH1xyw"
      },
      "outputs": [],
      "source": [
        "tfidf_feat = model.get_feature_names() # tfidf words/col-names\n"
      ]
    },
    {
      "cell_type": "code",
      "execution_count": null,
      "metadata": {
        "colab": {
          "base_uri": "https://localhost:8080/",
          "height": 34
        },
        "id": "OvisAYl71xy_",
        "outputId": "9404e43b-7aef-4663-f16c-bb0defadb5f8"
      },
      "outputs": [
        {
          "name": "stderr",
          "output_type": "stream",
          "text": [
            "100%|██████████| 9800/9800 [01:45<00:00, 109.40it/s]\n"
          ]
        }
      ],
      "source": [
        "list_of_sentance_tr=[]\n",
        "for sentance in X_tr:\n",
        "    list_of_sentance_tr.append(sentance.split())\n",
        "\n",
        "tfidf_sent_vectors_tr = []; # the tfidf-w2v for each sentence/review is stored in this list\n",
        "row=0;\n",
        "for sent in tqdm(list_of_sentance_tr): # for each review/sentence \n",
        "    sent_vec = np.zeros(50) # as word vectors are of zero length\n",
        "    weight_sum =0; # num of words with a valid vector in the sentence/review\n",
        "    for word in sent: # for each word in a review/sentence\n",
        "        if word in w2v_words and word in tfidf_feat:\n",
        "            vec = w2v_model.wv[word]\n",
        "#             tf_idf = tf_idf_matrix[row, tfidf_feat.index(word)]\n",
        "            # to reduce the computation we are \n",
        "            # dictionary[word] = idf value of word in whole courpus\n",
        "            # sent.count(word) = tf valeus of word in this review\n",
        "            tf_idf = dictionary[word]*(sent.count(word)/len(sent))\n",
        "            sent_vec += (vec * tf_idf)\n",
        "            weight_sum += tf_idf\n",
        "    if weight_sum != 0:\n",
        "        sent_vec /= weight_sum\n",
        "    tfidf_sent_vectors_tr.append(sent_vec)\n",
        "    row += 1"
      ]
    },
    {
      "cell_type": "code",
      "execution_count": null,
      "metadata": {
        "colab": {
          "base_uri": "https://localhost:8080/",
          "height": 34
        },
        "id": "gaLoijwl1xzO",
        "outputId": "1668ab97-55e6-4300-d1d0-e369118ed2ed"
      },
      "outputs": [
        {
          "name": "stderr",
          "output_type": "stream",
          "text": [
            "100%|██████████| 4200/4200 [00:46<00:00, 89.56it/s]\n"
          ]
        }
      ],
      "source": [
        "list_of_sentance_cv=[]\n",
        "for sentance in X_cv:\n",
        "    list_of_sentance_cv.append(sentance.split())\n",
        "\n",
        "tfidf_sent_vectors_cv = []; # the tfidf-w2v for each sentence/review is stored in this list\n",
        "row=0;\n",
        "for sent in tqdm(list_of_sentance_cv): # for each review/sentence \n",
        "    sent_vec = np.zeros(50) # as word vectors are of zero length\n",
        "    weight_sum =0; # num of words with a valid vector in the sentence/review\n",
        "    for word in sent: # for each word in a review/sentence\n",
        "        if word in w2v_words and word in tfidf_feat:\n",
        "            vec = w2v_model.wv[word]\n",
        "#             tf_idf = tf_idf_matrix[row, tfidf_feat.index(word)]\n",
        "            # to reduce the computation we are \n",
        "            # dictionary[word] = idf value of word in whole courpus\n",
        "            # sent.count(word) = tf valeus of word in this review\n",
        "            tf_idf = dictionary[word]*(sent.count(word)/len(sent))\n",
        "            sent_vec += (vec * tf_idf)\n",
        "            weight_sum += tf_idf\n",
        "    if weight_sum != 0:\n",
        "        sent_vec /= weight_sum\n",
        "    tfidf_sent_vectors_cv.append(sent_vec)\n",
        "    row += 1"
      ]
    },
    {
      "cell_type": "code",
      "execution_count": null,
      "metadata": {
        "colab": {
          "base_uri": "https://localhost:8080/",
          "height": 34
        },
        "id": "i-NmhHvv1xzi",
        "outputId": "9bc56df2-77ad-43d3-b666-f30922ff05d7"
      },
      "outputs": [
        {
          "name": "stderr",
          "output_type": "stream",
          "text": [
            "100%|██████████| 6000/6000 [01:05<00:00, 91.62it/s]\n"
          ]
        }
      ],
      "source": [
        "list_of_sentance_test=[]\n",
        "for sentance in X_test:\n",
        "    list_of_sentance_test.append(sentance.split())\n",
        "\n",
        "tfidf_sent_vectors_test = []; # the tfidf-w2v for each sentence/review is stored in this list\n",
        "row=0;\n",
        "for sent in tqdm(list_of_sentance_test): # for each review/sentence \n",
        "    sent_vec = np.zeros(50) # as word vectors are of zero length\n",
        "    weight_sum =0; # num of words with a valid vector in the sentence/review\n",
        "    for word in sent: # for each word in a review/sentence\n",
        "        if word in w2v_words and word in tfidf_feat:\n",
        "            vec = w2v_model.wv[word]\n",
        "#             tf_idf = tf_idf_matrix[row, tfidf_feat.index(word)]\n",
        "            # to reduce the computation we are \n",
        "            # dictionary[word] = idf value of word in whole courpus\n",
        "            # sent.count(word) = tf valeus of word in this review\n",
        "            tf_idf = dictionary[word]*(sent.count(word)/len(sent))\n",
        "            sent_vec += (vec * tf_idf)\n",
        "            weight_sum += tf_idf\n",
        "    if weight_sum != 0:\n",
        "        sent_vec /= weight_sum\n",
        "    tfidf_sent_vectors_test.append(sent_vec)\n",
        "    row += 1"
      ]
    },
    {
      "cell_type": "code",
      "execution_count": null,
      "metadata": {
        "colab": {
          "base_uri": "https://localhost:8080/",
          "height": 52
        },
        "id": "EFVa6LHX1xz3",
        "outputId": "7fef8372-6b08-4ef5-845c-63f961150970"
      },
      "outputs": [
        {
          "name": "stdout",
          "output_type": "stream",
          "text": [
            "Ranges of values from where we search for great penalty\n",
            " [1, 3, 5, 7, 9, 11, 13, 15]\n"
          ]
        }
      ],
      "source": [
        "cv_auc = []\n",
        "train_auc = []\n",
        "iterator = []\n",
        "END = 16\n",
        "start = 1\n",
        "while start < END:\n",
        "  clf = KNeighborsClassifier(n_neighbors = start,algorithm  = 'kd_tree')\n",
        "  clf.fit(tfidf_sent_vectors_tr,y_tr)\n",
        "  y_cv_predict = np.array(clf.predict_proba(tfidf_sent_vectors_cv))\n",
        "  preds = np.max(y_cv_predict,axis=1)\n",
        "  fpr, tpr, threshold = metrics.roc_curve(y_cv, preds)\n",
        "  cvAUC = metrics.auc(fpr, tpr)\n",
        "  y_tr_predict = np.array(clf.predict_proba(tfidf_sent_vectors_tr))\n",
        "  y_tr_predict = np.max(y_tr_predict,axis=1)\n",
        "  fpr_tr, tpr_tr, threshold_tr = metrics.roc_curve(y_tr, y_tr_predict)\n",
        "  trainAUC = metrics.auc(fpr_tr, tpr_tr)\n",
        "  cv_auc.append(cvAUC)\n",
        "  train_auc.append(trainAUC)\n",
        "  iterator.append(start)\n",
        "  start += 2\n",
        "  \n",
        "print(\"Ranges of values from where we search for great penalty\\n\",iterator)\n"
      ]
    },
    {
      "cell_type": "code",
      "execution_count": null,
      "metadata": {
        "colab": {
          "base_uri": "https://localhost:8080/",
          "height": 283
        },
        "id": "NiPNMCF-1x0G",
        "outputId": "0148ba9e-3f3e-4ec4-9dfc-7466dda9e8d3"
      },
      "outputs": [
        {
          "data": {
            "image/png": "[encoded data removed]",
            "text/plain": [
              "<Figure size 432x288 with 1 Axes>"
            ]
          },
          "metadata": {
            "tags": []
          },
          "output_type": "display_data"
        }
      ],
      "source": [
        "#plotting the graph \n",
        "plt.plot(iterator, cv_auc, linewidth=2)\n",
        "plt.plot(iterator, train_auc, linewidth=2)\n",
        "plt.axis('tight')\n",
        "plt.grid()\n",
        "plt.xlabel('Hyper parameter values')\n",
        "plt.ylabel('AUC')\n",
        "plt.legend(['Cross validation AUC', 'Train AUC'], loc='upper right')\n",
        "plt.show()"
      ]
    },
    {
      "cell_type": "markdown",
      "metadata": {
        "id": "KQjjY4bM2LVF"
      },
      "source": [
        "#### Optimal Hyperparameter is k  = 9"
      ]
    },
    {
      "cell_type": "code",
      "execution_count": null,
      "metadata": {
        "colab": {
          "base_uri": "https://localhost:8080/",
          "height": 955
        },
        "id": "ajgfqc3a1x0f",
        "outputId": "df7a19a9-d04b-41b5-e2e2-095a8fce03b0"
      },
      "outputs": [
        {
          "name": "stdout",
          "output_type": "stream",
          "text": [
            "Confusion Matrix on Train \n",
            "\n"
          ]
        },
        {
          "data": {
            "image/png": "[encoded data removed]",
            "text/plain": [
              "<Figure size 432x288 with 2 Axes>"
            ]
          },
          "metadata": {
            "tags": []
          },
          "output_type": "display_data"
        },
        {
          "name": "stdout",
          "output_type": "stream",
          "text": [
            "Confusion Matrix on Test \n",
            "\n"
          ]
        },
        {
          "data": {
            "image/png": "[encoded data removed]",
            "text/plain": [
              "<Figure size 432x288 with 2 Axes>"
            ]
          },
          "metadata": {
            "tags": []
          },
          "output_type": "display_data"
        },
        {
          "name": "stdout",
          "output_type": "stream",
          "text": [
            "**** TEST AUC ***  0.6848374405998519\n",
            "**** TRAIN AUC *****  0.8326574179607884\n"
          ]
        },
        {
          "data": {
            "image/png": "[encoded data removed]",
            "text/plain": [
              "<Figure size 432x288 with 1 Axes>"
            ]
          },
          "metadata": {
            "tags": []
          },
          "output_type": "display_data"
        }
      ],
      "source": [
        "clf = KNeighborsClassifier(n_neighbors = 9, algorithm  = 'kd_tree' )\n",
        "clf.fit(tfidf_sent_vectors_tr, y_tr)\n",
        "\n",
        "predict = clf.predict(tfidf_sent_vectors_tr)\n",
        "cm = metrics.confusion_matrix(y_tr, predict)\n",
        "print(\"Confusion Matrix on Train \\n\")\n",
        "ConfusionMatrixPrint(cm)\n",
        "predict = clf.predict(tfidf_sent_vectors_test)\n",
        "cm = metrics.confusion_matrix(y_test, predict)\n",
        "print(\"Confusion Matrix on Test \\n\")\n",
        "ConfusionMatrixPrint(cm)\n",
        "\n",
        "\n",
        "y_cv_predict = np.array(clf.predict_proba(tfidf_sent_vectors_test))\n",
        "preds = np.max(y_cv_predict,axis=1)\n",
        "fpr, tpr, threshold = metrics.roc_curve(y_test, preds)\n",
        "roc_auc = metrics.auc(fpr, tpr)\n",
        "print(\"**** TEST AUC *** \", roc_auc)\n",
        "y_tr_predict = np.array(clf.predict_proba(tfidf_sent_vectors_tr))\n",
        "y_tr_predict = np.max(y_tr_predict,axis=1)\n",
        "fpr_tr, tpr_tr, threshold_tr = metrics.roc_curve(y_tr, y_tr_predict)\n",
        "#calculating AUC\n",
        "auc = metrics.auc(fpr_tr, tpr_tr)\n",
        "print(\"**** TRAIN AUC ***** \", auc)\n",
        "ROCCurvePrint(fpr,tpr, fpr_tr, tpr_tr)"
      ]
    },
    {
      "cell_type": "markdown",
      "metadata": {
        "id": "crZ4qBCyDYN7"
      },
      "source": [
        "##<font color='green'><b>Conclusions"
      ]
    },
    {
      "cell_type": "code",
      "execution_count": null,
      "metadata": {
        "colab": {
          "base_uri": "https://localhost:8080/",
          "height": 225
        },
        "id": "9OacHxi1DYN8",
        "outputId": "c38b391d-a719-4690-af3a-1e14762c7645"
      },
      "outputs": [
        {
          "name": "stdout",
          "output_type": "stream",
          "text": [
            "+------+--------------------+----------------------+----------+\n",
            "| S.NO | Model Description  | Hyperparameter value | Test AUC |\n",
            "+------+--------------------+----------------------+----------+\n",
            "|  1   |        BoW         |          12          |  66.45   |\n",
            "|  2   |       TF-IDF       |          8           |  82.46   |\n",
            "|  3   |       Avg W2V      |          13          |  76.41   |\n",
            "|  4   |      TFIDF W2V     |          8           |  74.57   |\n",
            "|  5   |    KD-TREE BoW     |          9           |  73.39   |\n",
            "|  6   |   KD-TREE TF-IDF   |          11          |   56.2   |\n",
            "|  7   |   KD-TREE Avg W2V  |          11          |  73.91   |\n",
            "|  8   |  KD-TREE TFIDF W2V |          9           |  68.43   |\n",
            "+------+--------------------+----------------------+----------+\n"
          ]
        }
      ],
      "source": [
        "from prettytable import PrettyTable\n",
        "x = PrettyTable()\n",
        "x.add_column(\"S.NO\",[1,2,3,4,5,6,7,8])\n",
        "x.add_column(\"Model Description\",[\"BoW\",\" TF-IDF\",\" Avg W2V\", \" TFIDF W2V\", \"KD-TREE BoW\",\" KD-TREE TF-IDF\",\" KD-TREE Avg W2V\", \" KD-TREE TFIDF W2V\"])\n",
        "x.add_column(\"Hyperparameter value\",[\"12\",\"8\",\"13\",\"8\",\"9\",\"11\",\"11\",\"9\"])\n",
        "x.add_column(\"Test AUC\",[\"66.45\" ,\"82.46\",\"76.41\",\"74.57\",\"73.39\",\"56.2\",\"73.91\",\"68.43\" ])\n",
        "print(x)"
      ]
    }
  ],
  "metadata": {
    "colab": {
      "name": "knn_sklearn.ipynb",
      "provenance": [],
      "include_colab_link": true
    },
    "kernelspec": {
      "display_name": "Python 3",
      "language": "python",
      "name": "python3"
    },
    "language_info": {
      "codemirror_mode": {
        "name": "ipython",
        "version": 3
      },
      "file_extension": ".py",
      "mimetype": "text/x-python",
      "name": "python",
      "nbconvert_exporter": "python",
      "pygments_lexer": "ipython3",
      "version": "3.6.3"
    }
  },
  "nbformat": 4,
  "nbformat_minor": 0
}